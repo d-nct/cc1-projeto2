{
 "cells": [
  {
   "cell_type": "markdown",
   "metadata": {
    "deletable": false,
    "editable": false,
    "nbgrader": {
     "cell_type": "markdown",
     "checksum": "bb27cc215bed80fa6fdde9534b833245",
     "grade": false,
     "grade_id": "cell-281706b5e048e21a",
     "locked": true,
     "schema_version": 3,
     "solution": false,
     "task": false
    }
   },
   "source": [
    "# Equações diferenciais\n",
    "\n",
    "Uma equação diferencial, de forma bastante abstrata, é dada por\n",
    "$$ \\begin{cases}\n",
    "    y'(t)  & = F(t, y(t)) \\\\\n",
    "    y(t_0) & = y_0.\n",
    "\\end{cases} $$\n",
    "Uma solução é **uma função** $y(t)$ satisfazendo tanto a _condição inicial_ $y(t_0) = y_0$\n",
    "quanto a _dinâmica_ $y'(t) = F(t, y(t))$.\n",
    "\n",
    "Por questões práticas, também é comum dar um _intervalo de solução_, ou seja,\n",
    "pedir que $y$ seja definida (pelo menos) num intervalo $[a,b]$ onde $t_0 \\in [a,b]$.\n",
    "Aqui, vamos usar $a = t_0$,\n",
    "pensando \"fisicamente\" que a equação diferencial modela\n",
    "a evolução de alguma quantidade $y$ que conhecemos agora ($t_0$)\n",
    "e que queremos saber o quanto restará num momento futuro ($t_f = b$)."
   ]
  },
  {
   "cell_type": "markdown",
   "metadata": {
    "deletable": false,
    "editable": false,
    "nbgrader": {
     "cell_type": "markdown",
     "checksum": "4c41e58daaf454cb952d648096796120",
     "grade": false,
     "grade_id": "cell-23b0642fa9898b07",
     "locked": true,
     "schema_version": 3,
     "solution": false,
     "task": false
    }
   },
   "source": [
    "## Parte 1: O método de Euler\n",
    "\n",
    "Continuando nesta linha, é razoável discretizar o problema da seguinte forma:\n",
    "\n",
    "1. Definimos uma sequência de pontos $a = t_0 < t_1 < t_2 < \\cdots < t_n = t_f = b$ no intervalo $[a,b]$.\n",
    "2. Como $f$ é derivável, temos a aproximação $y(t_{i+1}) \\sim y(t_i) + (t_{i+1} - t_i)y'(t_i)$.\n",
    "3. A equação diferencial permide calcular $y'(t_i) = F(t_i, y(t_i))$.\n",
    "4. Isso define (recursivamente) uma sequência de aproximações $y_i$ para $y(t_i)$ pela fórmula\n",
    "$$ y_{i+1} = y_i + (t_{i+1} - t_i) F(t_i, y_i).$$\n",
    "\n",
    "A sequência mais simples de ser usada é, claro, a de $n+1$ pontos igualmente espaçados no intervalo $[a,b]$."
   ]
  },
  {
   "cell_type": "code",
   "execution_count": null,
   "metadata": {
    "deletable": false,
    "editable": false,
    "nbgrader": {
     "cell_type": "code",
     "checksum": "53a06d2146f278f346b1cf5add9110a5",
     "grade": false,
     "grade_id": "pylab",
     "locked": true,
     "schema_version": 3,
     "solution": false
    }
   },
   "outputs": [],
   "source": [
    "import numpy as np\n",
    "import matplotlib.pyplot as plt"
   ]
  },
  {
   "cell_type": "markdown",
   "metadata": {
    "deletable": false,
    "editable": false,
    "nbgrader": {
     "cell_type": "markdown",
     "checksum": "eabf41cab3117189c9fe35c1494e23a3",
     "grade": false,
     "grade_id": "cell-9a13a38e62cdef90",
     "locked": true,
     "schema_version": 3,
     "solution": false,
     "task": false
    }
   },
   "source": [
    "### 1. Implemente o método de Euler\n",
    "\n",
    "Escreva a função `euler` que divide o intervalo $[t_0, t_f]$ em `nsteps` intervalos de mesmo comprimento,\n",
    "e retorna\n",
    "- as `nsteps+1` extremidades `t_i`,\n",
    "- as `nsteps+1` aproximações `y_i` de $y$ nestes pontos.\n",
    "\n",
    "Dica: use `append` para construir os valores de `y_i`, mas retorne um `np.array()` para simplificar as contas."
   ]
  },
  {
   "cell_type": "code",
   "execution_count": null,
   "metadata": {
    "deletable": false,
    "nbgrader": {
     "cell_type": "code",
     "checksum": "d591747af908332cb12cfe65e1994982",
     "grade": false,
     "grade_id": "euler_rec",
     "locked": false,
     "schema_version": 3,
     "solution": true
    }
   },
   "outputs": [],
   "source": [
    "def euler(F, t0, tf, y0, nsteps=100):\n",
    "    # YOUR CODE HERE\n",
    "    raise NotImplementedError()\n",
    "    return ts, np.array(ys)"
   ]
  },
  {
   "cell_type": "markdown",
   "metadata": {
    "deletable": false,
    "editable": false,
    "nbgrader": {
     "cell_type": "markdown",
     "checksum": "95e431f20bde61ceccd32077d6fb6719",
     "grade": false,
     "grade_id": "cell-82475f980e69d7b3",
     "locked": true,
     "schema_version": 3,
     "solution": false,
     "task": false
    }
   },
   "source": [
    "Resolvendo uma EDO simples: $f' = f$."
   ]
  },
  {
   "cell_type": "code",
   "execution_count": null,
   "metadata": {
    "deletable": false,
    "editable": false,
    "nbgrader": {
     "cell_type": "code",
     "checksum": "241e9786a653a5a2abf7119a597f2be4",
     "grade": true,
     "grade_id": "euler_test1",
     "locked": true,
     "points": 2,
     "schema_version": 3,
     "solution": false
    }
   },
   "outputs": [],
   "source": [
    "def F1(t,y):\n",
    "    return y\n",
    "\n",
    "t_100, y_100 = euler(F1, 0, 1, 1)\n",
    "assert len(t_100) == 101\n",
    "assert t_100[0] == 0\n",
    "assert t_100[-1] == 1"
   ]
  },
  {
   "cell_type": "code",
   "execution_count": null,
   "metadata": {
    "deletable": false,
    "editable": false,
    "nbgrader": {
     "cell_type": "code",
     "checksum": "b78083627e8d8457a484281483b2164b",
     "grade": true,
     "grade_id": "euler_test2",
     "locked": true,
     "points": 2,
     "schema_version": 3,
     "solution": false
    }
   },
   "outputs": [],
   "source": [
    "t_100, y_100 = euler(F1, 0, 1, 1)\n",
    "assert len(y_100) == 101\n",
    "assert y_100[0] == 1\n",
    "assert( abs(y_100[-1] - 2.704813829421526) < 5e-15 )"
   ]
  },
  {
   "cell_type": "markdown",
   "metadata": {
    "deletable": false,
    "editable": false,
    "nbgrader": {
     "cell_type": "markdown",
     "checksum": "7c46e1ec8651f9a934310ccdfc7abe19",
     "grade": false,
     "grade_id": "cell-200bba0594f3e280",
     "locked": true,
     "schema_version": 3,
     "solution": false,
     "task": false
    }
   },
   "source": [
    "O que é melhor é que o método de Euler permite resolver equações diferenciais bastante (arbitrariamente!) complicadas:"
   ]
  },
  {
   "cell_type": "code",
   "execution_count": null,
   "metadata": {
    "deletable": false,
    "editable": false,
    "nbgrader": {
     "cell_type": "code",
     "checksum": "2465797877a7da192b2443ed6da14d87",
     "grade": true,
     "grade_id": "euler_test_3",
     "locked": true,
     "points": 2,
     "schema_version": 3,
     "solution": false
    }
   },
   "outputs": [],
   "source": [
    "def F_dificil(t, y):\n",
    "    return t*np.sin(y) - t**2*np.cos(y)\n",
    "\n",
    "_, y_dificil = euler(F_dificil, 0, 2, 1, nsteps=100)\n",
    "assert( abs(y_dificil[-1] - 3.553673725510754) < 5e-15 )"
   ]
  },
  {
   "cell_type": "markdown",
   "metadata": {},
   "source": [
    "### 2. Qualidade da aproximação\n",
    "\n",
    "Agora, faça um gráfico da solução numérica com mil pontos $f_{1000}$ para $f' = f$,\n",
    "e da solução exata $f(t) = e^t$ no intervalo $[0,1]$.\n",
    "Faça também um gráfico da diferença entre estas soluções."
   ]
  },
  {
   "cell_type": "code",
   "execution_count": null,
   "metadata": {
    "deletable": false,
    "nbgrader": {
     "cell_type": "code",
     "checksum": "bc899190b6e200a928943ddb42d9fa4d",
     "grade": true,
     "grade_id": "euler_graph1",
     "locked": false,
     "points": 3,
     "schema_version": 3,
     "solution": true
    }
   },
   "outputs": [],
   "source": [
    "# YOUR CODE HERE\n",
    "raise NotImplementedError()"
   ]
  },
  {
   "cell_type": "markdown",
   "metadata": {
    "deletable": false,
    "editable": false,
    "nbgrader": {
     "cell_type": "markdown",
     "checksum": "7b6c86f85c3fa6447cd5b370018df717",
     "grade": false,
     "grade_id": "cell-b8a6fd336716010d",
     "locked": true,
     "schema_version": 3,
     "solution": false,
     "task": false
    }
   },
   "source": [
    "Faça o gráfico agora do erro **relativo**."
   ]
  },
  {
   "cell_type": "code",
   "execution_count": null,
   "metadata": {
    "deletable": false,
    "nbgrader": {
     "cell_type": "code",
     "checksum": "8216836a9436dd11e33be43c63363e0b",
     "grade": false,
     "grade_id": "euler_graph11",
     "locked": false,
     "schema_version": 3,
     "solution": true,
     "task": false
    }
   },
   "outputs": [],
   "source": [
    "# YOUR CODE HERE\n",
    "raise NotImplementedError()\n",
    "ax = plt.gca()\n",
    "plt.show()"
   ]
  },
  {
   "cell_type": "code",
   "execution_count": null,
   "metadata": {
    "deletable": false,
    "editable": false,
    "nbgrader": {
     "cell_type": "code",
     "checksum": "4d3d0371f8954d18fde3811405bef618",
     "grade": true,
     "grade_id": "cell-0e8233679e6d3a4c",
     "locked": true,
     "points": 1,
     "schema_version": 3,
     "solution": false,
     "task": false
    }
   },
   "outputs": [],
   "source": [
    "assert ax.title.get_text() != \"\"\n",
    "assert len(ax.lines) == 1"
   ]
  },
  {
   "cell_type": "code",
   "execution_count": null,
   "metadata": {
    "deletable": false,
    "editable": false,
    "nbgrader": {
     "cell_type": "code",
     "checksum": "6616694312475a5c39da2ece44544da3",
     "grade": true,
     "grade_id": "cell-fb4c204f97462e9a",
     "locked": true,
     "points": 1,
     "schema_version": 3,
     "solution": false,
     "task": false
    }
   },
   "outputs": [],
   "source": [
    "xdata = ax.lines[0].get_xdata()\n",
    "assert min(xdata) == 0.0\n",
    "assert max(xdata) == 1.0\n",
    "\n",
    "ydata = ax.lines[0].get_ydata()\n",
    "assert min(ydata) > -0.001\n",
    "assert max(ydata) <  0.001"
   ]
  },
  {
   "cell_type": "code",
   "execution_count": null,
   "metadata": {
    "deletable": false,
    "editable": false,
    "nbgrader": {
     "cell_type": "code",
     "checksum": "0359d4a29931f117750527c41d258c7e",
     "grade": false,
     "grade_id": "cell-a5463b25f2c49231",
     "locked": true,
     "schema_version": 3,
     "solution": false,
     "task": false
    }
   },
   "outputs": [],
   "source": [
    "ax = None"
   ]
  },
  {
   "cell_type": "markdown",
   "metadata": {
    "deletable": false,
    "editable": false,
    "nbgrader": {
     "cell_type": "markdown",
     "checksum": "fe3c16d0f29edbe95768e89b6d635f13",
     "grade": false,
     "grade_id": "cell-6f1b673d3ae4dcea",
     "locked": true,
     "schema_version": 3,
     "solution": false,
     "task": false
    }
   },
   "source": [
    "### 3. Medindo erros\n",
    "\n",
    "Suponha que conhecemos a solução exata da EDO, que chamaremos aqui de $g(t)$ para evitar confundir com $y_i$.\n",
    "Mesmo que em muitos casos seja bastante razoável usar o \"erro final\" $g(t_n) - y_n$,\n",
    "onde $g$ é a solução exata e $y_n$ a aproximação,\n",
    "vamos nos concentrar no \"erro total\".\n",
    "E, para ficar relativamente simples, vamos usar a **média dos valores absolutos das diferenças** entre $g(t_j)$ e $y_j$.\n",
    "Usamos a média, e não a soma, porque ao variar o número de passos esta quantidade se mantém homogênea."
   ]
  },
  {
   "cell_type": "code",
   "execution_count": null,
   "metadata": {
    "deletable": false,
    "nbgrader": {
     "cell_type": "code",
     "checksum": "b799db7fc07e5b724e2f3300d711e472",
     "grade": false,
     "grade_id": "def_erro",
     "locked": false,
     "schema_version": 3,
     "solution": true,
     "task": false
    }
   },
   "outputs": [],
   "source": [
    "def erro(g, ys, ts):\n",
    "    \"\"\" Calcula o erro entre os valores de ys e g(ts).  ys e ts  devem ser vetores numpy, e  g uma função. \"\"\"\n",
    "    # YOUR CODE HERE\n",
    "    raise NotImplementedError()"
   ]
  },
  {
   "cell_type": "markdown",
   "metadata": {
    "deletable": false,
    "editable": false,
    "nbgrader": {
     "cell_type": "markdown",
     "checksum": "4888a4b9f5c2ce4ac57cee6f5ba83ba7",
     "grade": false,
     "grade_id": "cell-e380e8c4261dd41d",
     "locked": true,
     "schema_version": 3,
     "solution": false,
     "task": false
    }
   },
   "source": [
    "Como o erro total diminui ao aumentar o número de passos efetuados?\n",
    "Faça um gráfico."
   ]
  },
  {
   "cell_type": "code",
   "execution_count": null,
   "metadata": {
    "deletable": false,
    "nbgrader": {
     "cell_type": "code",
     "checksum": "0d21fad656723dcdb975091678a6d8c1",
     "grade": true,
     "grade_id": "graf_erro",
     "locked": false,
     "points": 1,
     "schema_version": 3,
     "solution": true
    }
   },
   "outputs": [],
   "source": [
    "%%time\n",
    "ns = np.logspace(1,5,num=21, dtype=int)\n",
    "# YOUR CODE HERE\n",
    "raise NotImplementedError()\n",
    "ax = plt.gca()\n",
    "plt.show()"
   ]
  },
  {
   "cell_type": "code",
   "execution_count": null,
   "metadata": {
    "deletable": false,
    "editable": false,
    "nbgrader": {
     "cell_type": "code",
     "checksum": "7e40434eb92dc1ed8de8dfc0be70db63",
     "grade": true,
     "grade_id": "cell-778ea7cac84cbd0f",
     "locked": true,
     "points": 2,
     "schema_version": 3,
     "solution": false,
     "task": false
    }
   },
   "outputs": [],
   "source": [
    "assert ax.title.get_text() != \"\"\n",
    "assert len(ax.lines) == 1\n",
    "\n",
    "ydata = ax.lines[0].get_ydata()\n",
    "assert 1e-6 < min(ydata) < 1e-4\n",
    "assert 1e-2 < max(ydata) < 1e-1"
   ]
  },
  {
   "cell_type": "markdown",
   "metadata": {
    "deletable": false,
    "editable": false,
    "nbgrader": {
     "cell_type": "markdown",
     "checksum": "211c610f27966f991a7cfaec035fd53d",
     "grade": false,
     "grade_id": "cell-27c7f2fbee5ec51a",
     "locked": true,
     "schema_version": 3,
     "solution": false,
     "task": false
    }
   },
   "source": [
    "E comente o resultado."
   ]
  },
  {
   "cell_type": "markdown",
   "metadata": {
    "deletable": false,
    "nbgrader": {
     "cell_type": "markdown",
     "checksum": "9993a1f157f4dbfae0d8ff6f2068b968",
     "grade": true,
     "grade_id": "coment_erro",
     "locked": false,
     "points": 2,
     "schema_version": 3,
     "solution": true
    }
   },
   "source": [
    "YOUR ANSWER HERE"
   ]
  },
  {
   "cell_type": "markdown",
   "metadata": {
    "deletable": false,
    "editable": false,
    "nbgrader": {
     "cell_type": "markdown",
     "checksum": "1cd883fef751fd04de908313104da172",
     "grade": false,
     "grade_id": "cell-b7a9adb2cb70f486",
     "locked": true,
     "schema_version": 3,
     "solution": false,
     "task": false
    }
   },
   "source": [
    "### 4. Sistemas de Equações\n",
    "\n",
    "Se você usar funções \"vetorizadas\" para `F`,\n",
    "o seu método de Euler é capaz de resolver (aproximar) até _sistemas_ de equações diferenciais.\n",
    "\n",
    "Por exemplo, o sistema\n",
    "$$ \\begin{align}\n",
    "v_0' & =  v_1 \\\\\n",
    "v_1' & = -v_0\n",
    "\\end{align} $$\n",
    "que é equivalente à equação diferencial trigonométrica básica $y'' = -y$,\n",
    "pode ser simulado assim:"
   ]
  },
  {
   "cell_type": "code",
   "execution_count": null,
   "metadata": {
    "deletable": false,
    "editable": false,
    "nbgrader": {
     "cell_type": "code",
     "checksum": "d2dfe31ff4845f111a9e6971c14220ad",
     "grade": true,
     "grade_id": "euler_2d",
     "locked": true,
     "points": 2,
     "schema_version": 3,
     "solution": false
    }
   },
   "outputs": [],
   "source": [
    "def F2(t, v):\n",
    "    return np.array([v[1],-v[0]])\n",
    "\n",
    "ans = np.array([-1.0505597866729235, -0.0010851561020816455])\n",
    "ts, vs = euler(F2, 0, np.pi, np.array([1.0,0.0]), nsteps=100)\n",
    "\n",
    "assert( all(abs(vs[-1]/ans - 1) < 1e-15) )"
   ]
  },
  {
   "cell_type": "markdown",
   "metadata": {},
   "source": [
    "Dependendo de como você tenha implementado `euler()`, os valores de `vs` serão todos iguais,\n",
    "pois você terá construído uma lista com `nsteps+1` vezes o mesmo `array`.\n",
    "Para corrigir isso, modifique sua função `euler` para criar uma cópia de cada valor de $f_i$ antes de incluir na lista."
   ]
  },
  {
   "cell_type": "code",
   "execution_count": null,
   "metadata": {
    "deletable": false,
    "nbgrader": {
     "cell_type": "code",
     "checksum": "fcad7bcd423ce611193dafe839ac396d",
     "grade": false,
     "grade_id": "new_euler",
     "locked": false,
     "schema_version": 3,
     "solution": true
    }
   },
   "outputs": [],
   "source": [
    "def euler(F, t0, tf, v0, nsteps=100):\n",
    "    # YOUR CODE HERE\n",
    "    raise NotImplementedError()\n",
    "    return ts, np.array(vs)"
   ]
  },
  {
   "cell_type": "markdown",
   "metadata": {
    "deletable": false,
    "editable": false,
    "nbgrader": {
     "cell_type": "markdown",
     "checksum": "a6cc495f6f6791d12e5d481217801fd9",
     "grade": false,
     "grade_id": "cell-36f3cde562ae5124",
     "locked": true,
     "schema_version": 3,
     "solution": false,
     "task": false
    }
   },
   "source": [
    "Para usar as coordenadas da solução separadamente, ou seja, $f_1$ e $f_2$,\n",
    "temos que transpor `v`.\n",
    "(Note que os métodos constróem ao longo do tempo, e não por coordenadas)"
   ]
  },
  {
   "cell_type": "code",
   "execution_count": null,
   "metadata": {
    "deletable": false,
    "editable": false,
    "nbgrader": {
     "cell_type": "code",
     "checksum": "907d0d1691711336da5146571e2c8c06",
     "grade": false,
     "grade_id": "cell-8dac5a478f3c96c0",
     "locked": true,
     "schema_version": 3,
     "solution": false
    }
   },
   "outputs": [],
   "source": [
    "ts, vs = euler(F2, 0, np.pi, np.array([1.0,0.0]), nsteps=100)\n",
    "vs = np.transpose(vs)\n",
    "vs[:,:10]"
   ]
  },
  {
   "cell_type": "markdown",
   "metadata": {
    "deletable": false,
    "editable": false,
    "nbgrader": {
     "cell_type": "markdown",
     "checksum": "6632c9c26b8d36edf4d9c630cff86923",
     "grade": false,
     "grade_id": "cell-84306ae405eea007",
     "locked": true,
     "schema_version": 3,
     "solution": false,
     "task": false
    }
   },
   "source": [
    "### 5. Mais gráficos\n",
    "\n",
    "Observe que a sua solução numérica realmente está próxima da solução analítica,\n",
    "fazendo um gráfico para a função e sua derivada,\n",
    "tanto numéricas como analíticas."
   ]
  },
  {
   "cell_type": "code",
   "execution_count": null,
   "metadata": {
    "deletable": false,
    "nbgrader": {
     "cell_type": "code",
     "checksum": "a9ed687549e6871fe9d4f09e0ef5385f",
     "grade": false,
     "grade_id": "cos_sin_graf",
     "locked": false,
     "schema_version": 3,
     "solution": true,
     "task": false
    }
   },
   "outputs": [],
   "source": [
    "# YOUR CODE HERE\n",
    "raise NotImplementedError()\n",
    "ax = plt.gca()\n",
    "plt.show()"
   ]
  },
  {
   "cell_type": "code",
   "execution_count": null,
   "metadata": {
    "deletable": false,
    "editable": false,
    "nbgrader": {
     "cell_type": "code",
     "checksum": "b0ccf113337ecaa3ef3a20b6e387ef52",
     "grade": true,
     "grade_id": "cell-5d346a2441fa9837",
     "locked": true,
     "points": 1,
     "schema_version": 3,
     "solution": false,
     "task": false
    }
   },
   "outputs": [],
   "source": [
    "assert ax.title.get_text() != \"\"\n",
    "assert len(ax.lines) == 4\n",
    "assert len(ax.legend().texts) == 4"
   ]
  },
  {
   "cell_type": "code",
   "execution_count": null,
   "metadata": {
    "deletable": false,
    "editable": false,
    "nbgrader": {
     "cell_type": "code",
     "checksum": "8e98eb64dfc8017f9c6df39032eec8b7",
     "grade": true,
     "grade_id": "cell-faf8107be6af3b1e",
     "locked": true,
     "points": 1,
     "schema_version": 3,
     "solution": false,
     "task": false
    }
   },
   "outputs": [],
   "source": [
    "xdata = ax.lines[0].get_xdata()\n",
    "assert min(xdata) == 0.0\n",
    "assert max(xdata) == np.pi\n",
    "\n",
    "ydata = [l.get_ydata() for l in ax.lines]\n",
    "assert -1.1 < np.min(ydata) < -1.0\n",
    "assert np.max(ydata) == 1.0"
   ]
  },
  {
   "cell_type": "code",
   "execution_count": null,
   "metadata": {
    "deletable": false,
    "editable": false,
    "nbgrader": {
     "cell_type": "code",
     "checksum": "59d2450d6381a0a7d3adb1856808c5b5",
     "grade": false,
     "grade_id": "cell-3c4123b49a8abb84",
     "locked": true,
     "schema_version": 3,
     "solution": false,
     "task": false
    }
   },
   "outputs": [],
   "source": [
    "ax = None"
   ]
  },
  {
   "cell_type": "markdown",
   "metadata": {
    "deletable": false,
    "editable": false,
    "nbgrader": {
     "cell_type": "markdown",
     "checksum": "b7cb8d8fe956a610975444a91d98202d",
     "grade": false,
     "grade_id": "cell-050d7a51ef47d0ba",
     "locked": true,
     "schema_version": 3,
     "solution": false,
     "task": false
    }
   },
   "source": [
    "Agora, aumente o intervalo de integração para $6\\pi$, e use 600 passos."
   ]
  },
  {
   "cell_type": "code",
   "execution_count": null,
   "metadata": {
    "deletable": false,
    "nbgrader": {
     "cell_type": "code",
     "checksum": "411dea6d90fdd472ada57ea1666cd9cd",
     "grade": true,
     "grade_id": "cos_sin_graf2",
     "locked": false,
     "points": 2,
     "schema_version": 3,
     "solution": true
    }
   },
   "outputs": [],
   "source": [
    "# YOUR CODE HERE\n",
    "raise NotImplementedError()"
   ]
  },
  {
   "cell_type": "markdown",
   "metadata": {
    "deletable": false,
    "editable": false,
    "nbgrader": {
     "cell_type": "markdown",
     "checksum": "47405926736c40c1f53f9c56b410f734",
     "grade": false,
     "grade_id": "cell-4724f173ba3937a3",
     "locked": true,
     "schema_version": 3,
     "solution": false,
     "task": false
    }
   },
   "source": [
    "O que aconteceu?"
   ]
  },
  {
   "cell_type": "markdown",
   "metadata": {
    "deletable": false,
    "nbgrader": {
     "cell_type": "markdown",
     "checksum": "02f31542260146c622f5e4edddd3aa15",
     "grade": true,
     "grade_id": "cell-91158401ba7356dc",
     "locked": false,
     "points": 2,
     "schema_version": 3,
     "solution": true
    }
   },
   "source": [
    "YOUR ANSWER HERE"
   ]
  },
  {
   "cell_type": "markdown",
   "metadata": {
    "deletable": false,
    "editable": false,
    "nbgrader": {
     "cell_type": "markdown",
     "checksum": "7a43287d816e992687488a0eaee07d8a",
     "grade": false,
     "grade_id": "cell-c9328106d8346e75",
     "locked": true,
     "schema_version": 3,
     "solution": false,
     "task": false
    }
   },
   "source": [
    "### 6. Erros multidimensionais\n",
    "\n",
    "Voltemos ao intervalo $[0, \\pi]$.\n",
    "Como se comporta o erro no caso do sistema acima, conforme o número de pontos aumenta?\n",
    "Qual erro é mais importante: o da derivada ($f_2$) ou o da função original ($f_1$)?\n",
    "Você vê uma razão para isso?"
   ]
  },
  {
   "cell_type": "code",
   "execution_count": null,
   "metadata": {
    "deletable": false,
    "nbgrader": {
     "cell_type": "code",
     "checksum": "7c1b30062a3f6fd547adfceba016085e",
     "grade": false,
     "grade_id": "erros_sin_cos",
     "locked": false,
     "schema_version": 3,
     "solution": true,
     "task": false
    }
   },
   "outputs": [],
   "source": [
    "%%time\n",
    "ns = np.logspace(1,5,num=21, dtype=int)\n",
    "# YOUR CODE HERE\n",
    "raise NotImplementedError()\n",
    "ax = plt.gca()\n",
    "plt.show()"
   ]
  },
  {
   "cell_type": "code",
   "execution_count": null,
   "metadata": {
    "deletable": false,
    "editable": false,
    "nbgrader": {
     "cell_type": "code",
     "checksum": "a4691d51d38286fda6a72f257a18a938",
     "grade": true,
     "grade_id": "cell-49e83e9d5f3391f3",
     "locked": true,
     "points": 1,
     "schema_version": 3,
     "solution": false,
     "task": false
    }
   },
   "outputs": [],
   "source": [
    "assert ax.title.get_text() != \"\"\n",
    "assert len(ax.lines) == 2\n",
    "assert len(ax.legend().texts) == 2"
   ]
  },
  {
   "cell_type": "code",
   "execution_count": null,
   "metadata": {
    "deletable": false,
    "editable": false,
    "nbgrader": {
     "cell_type": "code",
     "checksum": "82dfcb62d9e5e48be06470b634c79a49",
     "grade": true,
     "grade_id": "cell-f9dae32dd31988a8",
     "locked": true,
     "points": 1,
     "schema_version": 3,
     "solution": false,
     "task": false
    }
   },
   "outputs": [],
   "source": [
    "xdata = ax.lines[0].get_xdata()\n",
    "assert min(xdata) == 1e1\n",
    "assert max(xdata) == 1e5\n",
    "\n",
    "ydata = [l.get_ydata() for l in ax.lines]\n",
    "assert 1e-5 < np.min(ydata) < 5e-5\n",
    "assert 1e-1 < np.max(ydata) < 5e-1"
   ]
  },
  {
   "cell_type": "markdown",
   "metadata": {},
   "source": [
    "Comente abaixo"
   ]
  },
  {
   "cell_type": "markdown",
   "metadata": {
    "deletable": false,
    "nbgrader": {
     "cell_type": "markdown",
     "checksum": "8a66a1ac0528cf5f1ab7b611b2a8d80b",
     "grade": true,
     "grade_id": "cell-f5fffd6a5fbd6a51",
     "locked": false,
     "points": 1,
     "schema_version": 3,
     "solution": true
    }
   },
   "source": [
    "YOUR ANSWER HERE"
   ]
  },
  {
   "cell_type": "markdown",
   "metadata": {},
   "source": [
    "O erro certamente depende do intervalo \"de integração\" da equação diferencial.\n",
    "Será que a importância relativa também depende? Faça o gráfico do erro para o intervalo $[0, \\pi/2]$ e conclua."
   ]
  },
  {
   "cell_type": "code",
   "execution_count": null,
   "metadata": {
    "deletable": false,
    "nbgrader": {
     "cell_type": "code",
     "checksum": "d6043eb00622104a146b4f1a76247612",
     "grade": true,
     "grade_id": "graf_err_sin_cos_2",
     "locked": false,
     "points": 1,
     "schema_version": 3,
     "solution": true
    }
   },
   "outputs": [],
   "source": [
    "%%time\n",
    "ns = np.logspace(1,5,num=21, dtype=int)\n",
    "# YOUR CODE HERE\n",
    "raise NotImplementedError()"
   ]
  },
  {
   "cell_type": "markdown",
   "metadata": {
    "deletable": false,
    "editable": false,
    "nbgrader": {
     "cell_type": "markdown",
     "checksum": "63b39606c5eeb94692855cbf4bc55a36",
     "grade": false,
     "grade_id": "cell-b6852bcc9eb6cf76",
     "locked": true,
     "schema_version": 3,
     "solution": false,
     "task": false
    }
   },
   "source": [
    "Comente"
   ]
  },
  {
   "cell_type": "markdown",
   "metadata": {
    "deletable": false,
    "nbgrader": {
     "cell_type": "markdown",
     "checksum": "7fc5a47b76f4454245ce36849a9034ee",
     "grade": true,
     "grade_id": "cell-488ef29693ca30b8",
     "locked": false,
     "points": 2,
     "schema_version": 3,
     "solution": true
    }
   },
   "source": [
    "YOUR ANSWER HERE"
   ]
  },
  {
   "cell_type": "markdown",
   "metadata": {
    "deletable": false,
    "editable": false,
    "nbgrader": {
     "cell_type": "markdown",
     "checksum": "c4983b683ea11da1520a91d1594025e0",
     "grade": false,
     "grade_id": "cell-5aeab9b3e5ab868f",
     "locked": true,
     "schema_version": 3,
     "solution": false,
     "task": false
    }
   },
   "source": [
    "## Parte 2: Métodos de maior ordem para EDOs\n",
    "\n",
    "### Equações diferenciais e Integrais\n",
    "\n",
    "Calcular a integral $\\int_a^b h(t) \\, dt$ é a mesma coisa que resolver a equação diferencial\n",
    "$$ \\begin{cases}\n",
    "  y'(t) & = h(t) \\\\\n",
    "  f(a)  & = 0,\n",
    "\\end{cases} $$\n",
    "pelo Teorema Fundamental do Cálculo.\n",
    "Portanto, é possível implementar uma função `int_rect` usando a função `euler`.\n",
    "\n",
    "Isso é verdade para vários métodos de integração: muitas vezes existe um método de Equações Diferenciais cujo caso particular é um método de integração quando a ED é \"trivial\"\n",
    "(ou seja, quando a fórmula $F$ para $y'(t)$ não depende de $y(t)$)."
   ]
  },
  {
   "cell_type": "markdown",
   "metadata": {
    "deletable": false,
    "editable": false,
    "nbgrader": {
     "cell_type": "markdown",
     "checksum": "04428f1dfc7f4a1e153334ab49310015",
     "grade": false,
     "grade_id": "cell-7b97f72f7f552972",
     "locked": true,
     "schema_version": 3,
     "solution": false,
     "task": false
    }
   },
   "source": [
    "### O método do Trapézio para EDOs: uma equação implícita\n",
    "\n",
    "Inversamente, podemos usar métodos de integração e \"generalizar\" para usar em EDOs.\n",
    "Por exemplo, podemos usar a aproximação do trapézio:\n",
    "$$ y(h) = y(0) + \\int_0^h y'(t) \\, dt \\sim h \\cdot \\frac{y'(0) + y'(h)}{2}.$$\n",
    "\n",
    "Substituindo a EDO $f'(t) = F(t, f(t))$, isto dá uma equação **implícita** para calcular $y(h)$."
   ]
  },
  {
   "cell_type": "markdown",
   "metadata": {
    "deletable": false,
    "editable": false,
    "nbgrader": {
     "cell_type": "markdown",
     "checksum": "b9d0d3f5c2aec42b9d3b29fd54d6e859",
     "grade": false,
     "grade_id": "cell-c4286e9bd138d09d",
     "locked": true,
     "schema_version": 3,
     "solution": false,
     "task": false
    }
   },
   "source": [
    "### Trapézio 1: Equação implícita\n",
    "\n",
    "Escreva a equação implícita que a aproximação $y_1$ de $y(h)$ satisfaz, em função de $y_0$, $h$, $F$, $\\ldots$."
   ]
  },
  {
   "cell_type": "markdown",
   "metadata": {
    "deletable": false,
    "nbgrader": {
     "cell_type": "markdown",
     "checksum": "30c15b9a5cf643ebac06383c55e60119",
     "grade": true,
     "grade_id": "cell-21e5a9a9fe6bfda0",
     "locked": false,
     "points": 1,
     "schema_version": 3,
     "solution": true
    }
   },
   "source": [
    "YOUR ANSWER HERE"
   ]
  },
  {
   "cell_type": "markdown",
   "metadata": {
    "deletable": false,
    "editable": false,
    "nbgrader": {
     "cell_type": "markdown",
     "checksum": "b968d010d5b719c36485d2a5235da277",
     "grade": false,
     "grade_id": "cell-edeec3a139f779d2",
     "locked": true,
     "schema_version": 3,
     "solution": false,
     "task": false
    }
   },
   "source": [
    "### Trapézio 2: resolvendo a equação implícita de 1 passo\n",
    "\n",
    "Escreva uma função que dá o passo do método do trapézio.\n",
    "\n",
    "Obs: O método da secante precisa de dois pontos para iniciar.\n",
    "Que valor de $y$ deve estar próximo à solução?\n",
    "Se você tiver que \"chutar\" outro valor, este provavelmente estará mais próximo ou mais distante?\n",
    "Qual deles você deve usar como primeiro e qual como segundo valor na secante?"
   ]
  },
  {
   "cell_type": "code",
   "execution_count": null,
   "metadata": {
    "deletable": false,
    "nbgrader": {
     "cell_type": "code",
     "checksum": "114ef2a4382708065a06b525add1bd47",
     "grade": false,
     "grade_id": "cell-3472403326f99e4f",
     "locked": false,
     "schema_version": 3,
     "solution": true,
     "task": false
    }
   },
   "outputs": [],
   "source": [
    "# Inclua aqui seu código da secante\n",
    "# YOUR CODE HERE\n",
    "raise NotImplementedError()"
   ]
  },
  {
   "cell_type": "code",
   "execution_count": null,
   "metadata": {
    "deletable": false,
    "nbgrader": {
     "cell_type": "code",
     "checksum": "924142c645cdc91aed79742a04bc9344",
     "grade": false,
     "grade_id": "cell-a2e59b3caa310f1a",
     "locked": false,
     "schema_version": 3,
     "solution": true
    }
   },
   "outputs": [],
   "source": [
    "def trapezoidal_step_sec(F, tcurr, ycurr, h):\n",
    "    \"\"\"Resolve a equação implícita do método trapezoidal pelo método da secante, partindo de (tcurr,ycurr),\n",
    "    retornando uma aproximação de  y  em  tcurr+h.\"\"\"\n",
    "    tnext = tcurr+h\n",
    "    # YOUR CODE HERE\n",
    "    raise NotImplementedError()"
   ]
  },
  {
   "cell_type": "markdown",
   "metadata": {
    "deletable": false,
    "editable": false,
    "nbgrader": {
     "cell_type": "markdown",
     "checksum": "ed4f4f8829f4488258e8e32d31171bfd",
     "grade": false,
     "grade_id": "cell-fdfe9453702c3c87",
     "locked": true,
     "schema_version": 3,
     "solution": false,
     "task": false
    }
   },
   "source": [
    "### Alguns testes simples"
   ]
  },
  {
   "cell_type": "code",
   "execution_count": null,
   "metadata": {
    "deletable": false,
    "editable": false,
    "nbgrader": {
     "cell_type": "code",
     "checksum": "2755c02044cb2e4ec17048be5c57675e",
     "grade": true,
     "grade_id": "cell-fc0e186f42fe6f75",
     "locked": true,
     "points": 2,
     "schema_version": 3,
     "solution": false
    }
   },
   "outputs": [],
   "source": [
    "def G(t,y):\n",
    "    return t - np.cos(y)\n",
    "\n",
    "ynext = trapezoidal_step_sec(G, 0, 1, 0.1)\n",
    "assert abs(ynext - 0.9488541465905801) < 1e-14"
   ]
  },
  {
   "cell_type": "code",
   "execution_count": null,
   "metadata": {
    "deletable": false,
    "editable": false,
    "nbgrader": {
     "cell_type": "code",
     "checksum": "31ef0a9ae07be063297474e78db2498a",
     "grade": true,
     "grade_id": "cell-4c6e6b6cbd203ead",
     "locked": true,
     "points": 1,
     "schema_version": 3,
     "solution": false
    }
   },
   "outputs": [],
   "source": [
    "ynext = trapezoidal_step_sec(G, 0, 1, 0.3)\n",
    "assert abs(ynext - 0.8668725901552984) < 1e-14"
   ]
  },
  {
   "cell_type": "markdown",
   "metadata": {
    "deletable": false,
    "editable": false,
    "nbgrader": {
     "cell_type": "markdown",
     "checksum": "825dc6517da59d5ddd568b2fe84e4fb5",
     "grade": false,
     "grade_id": "cell-12571dc427d81af9",
     "locked": true,
     "schema_version": 3,
     "solution": false,
     "task": false
    }
   },
   "source": [
    "### Trapézio 3: Resolvendo a EDO\n",
    "\n",
    "Agora, incorporamos o passo do trapézio numa função `trapezoidal_ode`, análoga à `euler`,\n",
    "que resolve a EDO $y' = F(t, y(t))$ pelo método do trapézio."
   ]
  },
  {
   "cell_type": "code",
   "execution_count": null,
   "metadata": {
    "deletable": false,
    "nbgrader": {
     "cell_type": "code",
     "checksum": "fbdd00f70a3d130aa9bf601ff0295c1b",
     "grade": false,
     "grade_id": "cell-53109c937e04b22b",
     "locked": false,
     "schema_version": 3,
     "solution": true,
     "task": false
    }
   },
   "outputs": [],
   "source": [
    "def trapezoidal_ode(F, t0, tf, y0, nsteps=100):\n",
    "    \"\"\"Calcula uma solução aproximada da equação  y' = F(t,y)  pelo método do trapézio,\n",
    "    dividindo o intervalo  [t0, tf]  em  nsteps  passos,\n",
    "    e usando o método da secante para resolver a equação implícita.\"\"\"\n",
    "    # YOUR CODE HERE\n",
    "    raise NotImplementedError()\n",
    "    return ts, np.array(ys)"
   ]
  },
  {
   "cell_type": "code",
   "execution_count": null,
   "metadata": {
    "deletable": false,
    "editable": false,
    "nbgrader": {
     "cell_type": "code",
     "checksum": "37a7318dd06b37a667ae942ef34e53bc",
     "grade": true,
     "grade_id": "cell-2636497dc2fecc38",
     "locked": true,
     "points": 1,
     "schema_version": 3,
     "solution": false
    }
   },
   "outputs": [],
   "source": [
    "def F1(t,y):\n",
    "    return y\n",
    "\n",
    "t_100, y_100 = trapezoidal_ode(F1, 0, 1, 1)\n",
    "assert len(t_100) == 101\n",
    "assert t_100[0] == 0\n",
    "assert t_100[-1] == 1"
   ]
  },
  {
   "cell_type": "code",
   "execution_count": null,
   "metadata": {
    "deletable": false,
    "editable": false,
    "nbgrader": {
     "cell_type": "code",
     "checksum": "a0ef97f6f192c0d741f11eb994b457a5",
     "grade": true,
     "grade_id": "cell-bad899092faf0acd",
     "locked": true,
     "points": 1,
     "schema_version": 3,
     "solution": false
    }
   },
   "outputs": [],
   "source": [
    "t_100, y_100 = trapezoidal_ode(F1, 0, 1, 1)\n",
    "assert len(y_100) == 101\n",
    "assert y_100[0] == 1\n",
    "assert( abs(y_100[-1] - 2.7183044812417965) < 5e-15 )"
   ]
  },
  {
   "cell_type": "code",
   "execution_count": null,
   "metadata": {
    "deletable": false,
    "editable": false,
    "nbgrader": {
     "cell_type": "code",
     "checksum": "e9226b0d2ad72f01a50650b1e8668509",
     "grade": true,
     "grade_id": "cell-c13ccd1c6e326e4a",
     "locked": true,
     "points": 1,
     "schema_version": 3,
     "solution": false
    }
   },
   "outputs": [],
   "source": [
    "def F_dificil(t, y):\n",
    "    return t*np.sin(y) - t**2*np.cos(y)\n",
    "\n",
    "_, y_dificil = trapezoidal_ode(F_dificil, 0, 2, 1, nsteps=100)\n",
    "assert( abs(y_dificil[-1] - 3.587544094834753) < 5e-15 )"
   ]
  },
  {
   "cell_type": "code",
   "execution_count": null,
   "metadata": {
    "deletable": false,
    "editable": false,
    "nbgrader": {
     "cell_type": "code",
     "checksum": "4d516688567bba204b38c9df87d57726",
     "grade": true,
     "grade_id": "cell-ec92560fa7645ec4",
     "locked": true,
     "points": 2,
     "schema_version": 3,
     "solution": false
    }
   },
   "outputs": [],
   "source": [
    "t_100, y_100 = trapezoidal_ode(F1, 0, 1, 1)\n",
    "assert np.allclose(y_100, np.exp(t_100))\n",
    "assert 1e-5 < np.max(y_100 - np.exp(t_100)) < 5e-5\n",
    "\n",
    "t_1000, y_1000 = trapezoidal_ode(F1, 0, 1, 1, nsteps=1000)\n",
    "assert np.allclose(y_1000, np.exp(t_1000), rtol=1e-7)\n",
    "assert 1e-7 < np.max(y_1000 - np.exp(t_1000)) < 5e-7"
   ]
  },
  {
   "cell_type": "markdown",
   "metadata": {
    "deletable": false,
    "editable": false,
    "nbgrader": {
     "cell_type": "markdown",
     "checksum": "8658864b86e7e3bce6f010b02b0f3378",
     "grade": false,
     "grade_id": "cell-09d5d2bf9bdb2361",
     "locked": true,
     "schema_version": 3,
     "solution": false,
     "task": false
    }
   },
   "source": [
    "O que a caixa acima está testando?"
   ]
  },
  {
   "cell_type": "markdown",
   "metadata": {
    "deletable": false,
    "nbgrader": {
     "cell_type": "markdown",
     "checksum": "7a3a8fc879ca3db69e12ba4207280cbd",
     "grade": true,
     "grade_id": "cell-565ac12e85799498",
     "locked": false,
     "points": 2,
     "schema_version": 3,
     "solution": true
    }
   },
   "source": [
    "YOUR ANSWER HERE"
   ]
  },
  {
   "cell_type": "markdown",
   "metadata": {
    "deletable": false,
    "editable": false,
    "nbgrader": {
     "cell_type": "markdown",
     "checksum": "830bbf4dc7c0ae093d4dd52ea377302f",
     "grade": false,
     "grade_id": "cell-5035f1355aeb78e3",
     "locked": true,
     "schema_version": 3,
     "solution": false,
     "task": false
    }
   },
   "source": [
    "### O método do ponto médio para integrais\n",
    "\n",
    "Esse é um método de \"duplo cálculo\", e explícito:\n",
    "\n",
    "- Andamos metade do tempo $h$, usando um passo \"de Euler\"\n",
    "- Recalculamos o passo de Euler, mas usamos a derivada \"no meio do caminho\",\n",
    "  que é uma aproximação melhor (porque simétrica).\n",
    "\n",
    "Em fórmulas:\n",
    "- Passo explícito, $m_i = y_i + F(t_i, y_i) \\cdot h/2$\n",
    "- 2º passo explícito: $y_{i+1} = y_i + F(t_i + h/2, m_i) \\cdot h$"
   ]
  },
  {
   "cell_type": "markdown",
   "metadata": {
    "deletable": false,
    "editable": false,
    "nbgrader": {
     "cell_type": "markdown",
     "checksum": "fcaf7e9d336694c45d7f9dc60b241cd0",
     "grade": false,
     "grade_id": "cell-ed2fc4d8a461dd0f",
     "locked": true,
     "schema_version": 3,
     "solution": false,
     "task": false
    }
   },
   "source": [
    "### Ponto médio 1:\n",
    "\n",
    "Escreva uma função que dá o novo ponto usando a regra do ponto médio"
   ]
  },
  {
   "cell_type": "code",
   "execution_count": null,
   "metadata": {
    "deletable": false,
    "nbgrader": {
     "cell_type": "code",
     "checksum": "0549f89929235e1ec82b04158419654e",
     "grade": false,
     "grade_id": "cell-a5d222acf3fcf39c",
     "locked": false,
     "schema_version": 3,
     "solution": true
    }
   },
   "outputs": [],
   "source": [
    "def midpoint_step(F, t, y, h):\n",
    "    # YOUR CODE HERE\n",
    "    raise NotImplementedError()"
   ]
  },
  {
   "cell_type": "code",
   "execution_count": null,
   "metadata": {
    "deletable": false,
    "editable": false,
    "nbgrader": {
     "cell_type": "code",
     "checksum": "b1c9edf2af91c49a09c1d2afab8fa27c",
     "grade": true,
     "grade_id": "cell-02935fb5b443e376",
     "locked": true,
     "points": 1,
     "schema_version": 3,
     "solution": false
    }
   },
   "outputs": [],
   "source": [
    "def G(t,y):\n",
    "    return t - np.cos(y)\n",
    "\n",
    "ynext = midpoint_step(G, 0, 1, 0.1)\n",
    "assert abs(ynext - 0.9487165172210511) < 1e-14"
   ]
  },
  {
   "cell_type": "code",
   "execution_count": null,
   "metadata": {
    "deletable": false,
    "editable": false,
    "nbgrader": {
     "cell_type": "code",
     "checksum": "70ce3e17d9fadc828c789ff573216f5c",
     "grade": true,
     "grade_id": "cell-4b69d6123f624e03",
     "locked": true,
     "points": 1,
     "schema_version": 3,
     "solution": false
    }
   },
   "outputs": [],
   "source": [
    "ynext = midpoint_step(G, 0, 1, 0.3)\n",
    "assert abs(ynext - 0.8630045486909678) < 1e-14"
   ]
  },
  {
   "cell_type": "markdown",
   "metadata": {
    "deletable": false,
    "editable": false,
    "nbgrader": {
     "cell_type": "markdown",
     "checksum": "be9e33c8afbe402ede08974e1238bc31",
     "grade": false,
     "grade_id": "cell-391b5acadb306dfb",
     "locked": true,
     "schema_version": 3,
     "solution": false,
     "task": false
    }
   },
   "source": [
    "### Ponto médio 2: EDO\n",
    "\n",
    "E agora, incorpore este passo num método de resolução de EDOs"
   ]
  },
  {
   "cell_type": "code",
   "execution_count": null,
   "metadata": {
    "deletable": false,
    "nbgrader": {
     "cell_type": "code",
     "checksum": "1b18c4df1ef946f3a3efe4c60c078437",
     "grade": false,
     "grade_id": "cell-a6fdf31371abb993",
     "locked": false,
     "schema_version": 3,
     "solution": true
    }
   },
   "outputs": [],
   "source": [
    "def midpoint_ode(F, t0, tf, y0, nsteps=100):\n",
    "    \"\"\"Calcula uma solução aproximada da equação y' = F(t,y) no intervalo  [t0, tf]  usando  nsteps  passos,\n",
    "    usando o passo explícito no ponto médio.\"\"\"\n",
    "    # YOUR CODE HERE\n",
    "    raise NotImplementedError()\n",
    "    return ts, np.array(ys)"
   ]
  },
  {
   "cell_type": "code",
   "execution_count": null,
   "metadata": {
    "deletable": false,
    "editable": false,
    "nbgrader": {
     "cell_type": "code",
     "checksum": "22c64f1ae078fe1658e63bede911df4e",
     "grade": true,
     "grade_id": "cell-0517a2cc6bff6ed6",
     "locked": true,
     "points": 1,
     "schema_version": 3,
     "solution": false
    }
   },
   "outputs": [],
   "source": [
    "def F1(t,y):\n",
    "    return y\n",
    "\n",
    "t_100, y_100 = midpoint_ode(F1, 0, 1, 1)\n",
    "assert len(t_100) == 101\n",
    "assert t_100[0] == 0\n",
    "assert t_100[-1] == 1"
   ]
  },
  {
   "cell_type": "code",
   "execution_count": null,
   "metadata": {
    "deletable": false,
    "editable": false,
    "nbgrader": {
     "cell_type": "code",
     "checksum": "6e701b865a6a35e0e86a3dd9a655b763",
     "grade": true,
     "grade_id": "cell-fa1fbe523679c33f",
     "locked": true,
     "points": 1,
     "schema_version": 3,
     "solution": false
    }
   },
   "outputs": [],
   "source": [
    "t_100, y_100 = midpoint_ode(F1, 0, 1, 1)\n",
    "assert len(y_100) == 101\n",
    "assert y_100[0] == 1\n",
    "assert( abs(y_100[-1] - 2.718236862559957) < 5e-15 )"
   ]
  },
  {
   "cell_type": "code",
   "execution_count": null,
   "metadata": {
    "deletable": false,
    "editable": false,
    "nbgrader": {
     "cell_type": "code",
     "checksum": "878a5b04dfc3ea540e51745122c9de42",
     "grade": true,
     "grade_id": "cell-698ec04dabd58518",
     "locked": true,
     "points": 1,
     "schema_version": 3,
     "solution": false
    }
   },
   "outputs": [],
   "source": [
    "def F_dificil(t, y):\n",
    "    return t*np.sin(y) - t**2*np.cos(y)\n",
    "\n",
    "_, y_dificil = midpoint_ode(F_dificil, 0, 2, 1, nsteps=100)\n",
    "assert( abs(y_dificil[-1] - 3.5874427140529868) < 5e-15 )"
   ]
  },
  {
   "cell_type": "code",
   "execution_count": null,
   "metadata": {
    "deletable": false,
    "editable": false,
    "nbgrader": {
     "cell_type": "code",
     "checksum": "b488f4162934fa8c425db677672b777c",
     "grade": true,
     "grade_id": "cell-aa8742504641ae45",
     "locked": true,
     "points": 1,
     "schema_version": 3,
     "solution": false
    }
   },
   "outputs": [],
   "source": [
    "t_100, y_100 = midpoint_ode(F1, 0, 1, 1)\n",
    "assert np.allclose(y_100, np.exp(t_100), rtol=2e-5)\n",
    "assert 2e-5 < np.max(abs(y_100 - np.exp(t_100))) < 10e-5\n",
    "\n",
    "t_1000, y_1000 = midpoint_ode(F1, 0, 1, 1, nsteps=1000)\n",
    "assert np.allclose(y_1000, np.exp(t_1000), rtol=2e-7)\n",
    "assert 2e-7 < np.max(abs(y_1000 - np.exp(t_1000))) < 10e-7"
   ]
  },
  {
   "cell_type": "markdown",
   "metadata": {
    "deletable": false,
    "editable": false,
    "nbgrader": {
     "cell_type": "markdown",
     "checksum": "55b94504d9b2705d50f9cc4f6d6a35cf",
     "grade": false,
     "grade_id": "cell-3d95911937cdea2f",
     "locked": true,
     "schema_version": 3,
     "solution": false,
     "task": false
    }
   },
   "source": [
    "### Gráficos\n",
    "\n",
    "### Gráficos 1: Solução de EDOs\n",
    "\n",
    "Resolva a EDO\n",
    "\n",
    "$$y' = t - \\cos(y)$$\n",
    "\n",
    "com condição inicial $y(0) = 1$ no intervalo $[0,5]$, usando 30 pontos,\n",
    "pelos 3 métodos (Euler, Trapézio, ponto médio).\n",
    "Faça o gráfico das três soluções.\n",
    "Não esqueça do título e da legenda!"
   ]
  },
  {
   "cell_type": "code",
   "execution_count": null,
   "metadata": {
    "deletable": false,
    "nbgrader": {
     "cell_type": "code",
     "checksum": "1ae55f10f46a4c3f8d40a2a0ae247e92",
     "grade": false,
     "grade_id": "cell-33a3a84d777bfa52",
     "locked": false,
     "schema_version": 3,
     "solution": true
    }
   },
   "outputs": [],
   "source": [
    "# YOUR CODE HERE\n",
    "raise NotImplementedError()\n",
    "ax = plt.gca()\n",
    "plt.show()"
   ]
  },
  {
   "cell_type": "code",
   "execution_count": null,
   "metadata": {
    "deletable": false,
    "editable": false,
    "nbgrader": {
     "cell_type": "code",
     "checksum": "e2741c39c125c65bc9778706180c482c",
     "grade": true,
     "grade_id": "cell-ce8a6c701ef30448",
     "locked": true,
     "points": 2,
     "schema_version": 3,
     "solution": false
    }
   },
   "outputs": [],
   "source": [
    "assert ax.title.get_text() != \"\"\n",
    "assert len(ax.lines) == 3\n",
    "assert len(ax.legend().texts) == 3"
   ]
  },
  {
   "cell_type": "code",
   "execution_count": null,
   "metadata": {
    "deletable": false,
    "editable": false,
    "nbgrader": {
     "cell_type": "code",
     "checksum": "dbc69d4820e4980b18d8528e22a609ea",
     "grade": false,
     "grade_id": "cell-658a27a9bd206613",
     "locked": true,
     "schema_version": 3,
     "solution": false
    }
   },
   "outputs": [],
   "source": [
    "ax = None"
   ]
  },
  {
   "cell_type": "markdown",
   "metadata": {
    "deletable": false,
    "editable": false,
    "nbgrader": {
     "cell_type": "markdown",
     "checksum": "49ee1573c1c07ae7bcf7fe9d75d4d984",
     "grade": false,
     "grade_id": "cell-8d47fa9448102f8f",
     "locked": true,
     "schema_version": 3,
     "solution": false
    }
   },
   "source": [
    "Esta EDO não tem \"solução analítica simples\".\n",
    "Como você faria para saber qual das curvas está \"mais correta\"?\n",
    "Explique sua ideia abaixo, e faça contas / gráficos na caixa seguinte"
   ]
  },
  {
   "cell_type": "markdown",
   "metadata": {
    "deletable": false,
    "nbgrader": {
     "cell_type": "markdown",
     "checksum": "7ff68caebbba1fc1f902d123addb6cc6",
     "grade": true,
     "grade_id": "cell-5bab6216c6c3cc36",
     "locked": false,
     "points": 2,
     "schema_version": 3,
     "solution": true
    }
   },
   "source": [
    "YOUR ANSWER HERE"
   ]
  },
  {
   "cell_type": "code",
   "execution_count": null,
   "metadata": {
    "deletable": false,
    "nbgrader": {
     "cell_type": "code",
     "checksum": "281493f8e70105a374b3bfa617d15ba5",
     "grade": true,
     "grade_id": "cell-f3aaa5eae6c9a1cc",
     "locked": false,
     "points": 2,
     "schema_version": 3,
     "solution": true
    }
   },
   "outputs": [],
   "source": [
    "# Contas / gráfico\n",
    "# YOUR CODE HERE\n",
    "raise NotImplementedError()"
   ]
  },
  {
   "cell_type": "markdown",
   "metadata": {
    "deletable": false,
    "editable": false,
    "nbgrader": {
     "cell_type": "markdown",
     "checksum": "ffd6e8d9fac4fc61f5855d46a63ed13c",
     "grade": false,
     "grade_id": "cell-4780c10bc46f9467",
     "locked": true,
     "schema_version": 3,
     "solution": false,
     "task": false
    }
   },
   "source": [
    "### Gráficos 2: Velocidade de convergência"
   ]
  },
  {
   "cell_type": "code",
   "execution_count": null,
   "metadata": {
    "deletable": false,
    "editable": false,
    "nbgrader": {
     "cell_type": "code",
     "checksum": "db0efb40f6c4d5673fa87e8c0b747ccb",
     "grade": false,
     "grade_id": "cell-0f68f9a8c831ab1b",
     "locked": true,
     "schema_version": 3,
     "solution": false
    }
   },
   "outputs": [],
   "source": [
    "methods_3 = [euler, trapezoidal_ode, midpoint_ode]"
   ]
  },
  {
   "cell_type": "markdown",
   "metadata": {
    "deletable": false,
    "editable": false,
    "nbgrader": {
     "cell_type": "markdown",
     "checksum": "24f9de9583faa08816094c831e920fd1",
     "grade": false,
     "grade_id": "cell-1abb8540789eee82",
     "locked": true,
     "schema_version": 3,
     "solution": false,
     "task": false
    }
   },
   "source": [
    "Faça uma função que desenha o gráfico dos erros de solução de uma EDO, dados\n",
    "- a função $F$ da EDO\n",
    "- o intervalo $[a,b]$\n",
    "- a condição inicial $y_0$\n",
    "- a solução analítica `ysol`\n",
    "- o número de pontos $n$\n"
   ]
  },
  {
   "cell_type": "code",
   "execution_count": null,
   "metadata": {
    "deletable": false,
    "nbgrader": {
     "cell_type": "code",
     "checksum": "c6e815f2ad75b41a60f2285ba964f6e2",
     "grade": false,
     "grade_id": "cell-f1f6501fa1b5f6ce",
     "locked": false,
     "schema_version": 3,
     "solution": true,
     "task": false
    }
   },
   "outputs": [],
   "source": [
    "def graph_err(F, a,b, y0, ysol, n, methods=methods_3):\n",
    "    # YOUR CODE HERE\n",
    "    raise NotImplementedError()\n",
    "    plt.legend(title=\"Método\")"
   ]
  },
  {
   "cell_type": "markdown",
   "metadata": {
    "deletable": false,
    "editable": false,
    "nbgrader": {
     "cell_type": "markdown",
     "checksum": "81ea113fa0adad50a9b45e552f7c3f02",
     "grade": false,
     "grade_id": "cell-ffe70eecba84bd11",
     "locked": true,
     "schema_version": 3,
     "solution": false,
     "task": false
    }
   },
   "source": [
    "Uma EDO conhecida, para comparar o erro: $$y' = -y.$$"
   ]
  },
  {
   "cell_type": "code",
   "execution_count": null,
   "metadata": {
    "deletable": false,
    "editable": false,
    "nbgrader": {
     "cell_type": "code",
     "checksum": "d3a19a2534221545ba54caaae651c3a4",
     "grade": false,
     "grade_id": "cell-8fef74752c80b9ce",
     "locked": true,
     "schema_version": 3,
     "solution": false
    }
   },
   "outputs": [],
   "source": [
    "def G2(t,y): return -y\n",
    "def ysol2(t): return np.exp(-t)\n",
    "\n",
    "graph_err(G2, 0,2, 1, ysol2, 30)\n",
    "plt.yscale('symlog', linthresh=1e-4) # Com \"symlog\", não use valores absolutos\n",
    "plt.grid()\n",
    "ax = plt.gca()"
   ]
  },
  {
   "cell_type": "code",
   "execution_count": null,
   "metadata": {
    "deletable": false,
    "editable": false,
    "nbgrader": {
     "cell_type": "code",
     "checksum": "81884df73f64130cd041828532683ef6",
     "grade": true,
     "grade_id": "cell-bd1283a1a93cf938",
     "locked": true,
     "points": 1,
     "schema_version": 3,
     "solution": false
    }
   },
   "outputs": [],
   "source": [
    "assert ax.title.get_text() != \"\"\n",
    "assert len(ax.lines) == 3\n",
    "assert len(ax.legend().texts) == 3"
   ]
  },
  {
   "cell_type": "code",
   "execution_count": null,
   "metadata": {
    "deletable": false,
    "editable": false,
    "nbgrader": {
     "cell_type": "code",
     "checksum": "f92dbac814e34e3627ffded526e4a697",
     "grade": true,
     "grade_id": "cell-833495eb66f83962",
     "locked": true,
     "points": 1,
     "schema_version": 3,
     "solution": false,
     "task": false
    }
   },
   "outputs": [],
   "source": [
    "xdata = ax.lines[0].get_xdata()\n",
    "assert min(xdata) == 0.0\n",
    "assert max(xdata) == 2.0\n",
    "\n",
    "ydata = [l.get_ydata() for l in ax.lines]\n",
    "assert -2e-2 < np.min(ydata) < -1e-2\n",
    "assert  1e-4 < np.max(ydata) <  4e-4"
   ]
  },
  {
   "cell_type": "markdown",
   "metadata": {
    "deletable": false,
    "editable": false,
    "nbgrader": {
     "cell_type": "markdown",
     "checksum": "48561125e8cee1ee4272516c5c8acb11",
     "grade": false,
     "grade_id": "cell-5eea6c3a87cdf3e5",
     "locked": true,
     "schema_version": 3,
     "solution": false,
     "task": false
    }
   },
   "source": [
    "### Gráficos 3: Erro em função de $n$\n",
    "\n",
    "Usando a função `erro` definida anteriormente, faça o gráfico do erro, para os 3 métodos,\n",
    "em função de $n$, para a EDO $y' = y$, no intervalo $[0,2]$."
   ]
  },
  {
   "cell_type": "code",
   "execution_count": null,
   "metadata": {
    "deletable": false,
    "nbgrader": {
     "cell_type": "code",
     "checksum": "015d023b4d241c891d8333bc5ddfaef6",
     "grade": false,
     "grade_id": "cell-042badbff1e14e15",
     "locked": false,
     "schema_version": 3,
     "solution": true
    }
   },
   "outputs": [],
   "source": [
    "%%time\n",
    "ns = np.logspace(1,5,num=21, dtype=int)\n",
    "# YOUR CODE HERE\n",
    "raise NotImplementedError()"
   ]
  },
  {
   "cell_type": "code",
   "execution_count": null,
   "metadata": {
    "deletable": false,
    "editable": false,
    "nbgrader": {
     "cell_type": "code",
     "checksum": "d51630a820fc1a0063c818dc6926e0bb",
     "grade": true,
     "grade_id": "cell-6e8eeb4188889f83",
     "locked": true,
     "points": 2,
     "schema_version": 3,
     "solution": false
    }
   },
   "outputs": [],
   "source": [
    "assert ax.title.get_text() != \"\"\n",
    "assert len(ax.lines) == 3\n",
    "assert len(ax.legend().texts) == 3"
   ]
  },
  {
   "cell_type": "markdown",
   "metadata": {
    "deletable": false,
    "editable": false,
    "nbgrader": {
     "cell_type": "markdown",
     "checksum": "2b55b5a7e22c2432057393c6b65380e9",
     "grade": false,
     "grade_id": "cell-41a618f77506e4ef",
     "locked": true,
     "schema_version": 3,
     "solution": false,
     "task": false
    }
   },
   "source": [
    "O que você observa?"
   ]
  },
  {
   "cell_type": "markdown",
   "metadata": {
    "deletable": false,
    "nbgrader": {
     "cell_type": "markdown",
     "checksum": "b6d36c7ab7cf0f90334aa8c7b90f71cb",
     "grade": true,
     "grade_id": "cell-2dc4aff2a203c9c5",
     "locked": false,
     "points": 3,
     "schema_version": 3,
     "solution": true
    }
   },
   "source": [
    "YOUR ANSWER HERE"
   ]
  }
 ],
 "metadata": {
  "@webio": {
   "lastCommId": null,
   "lastKernelId": null
  },
  "hide_input": false,
  "kernelspec": {
   "display_name": "Python 3",
   "language": "python",
   "name": "python3"
  },
  "language_info": {
   "codemirror_mode": {
    "name": "ipython",
    "version": 3
   },
   "file_extension": ".py",
   "mimetype": "text/x-python",
   "name": "python",
   "nbconvert_exporter": "python",
   "pygments_lexer": "ipython3",
   "version": "3.8.3"
  }
 },
 "nbformat": 4,
 "nbformat_minor": 2
}
