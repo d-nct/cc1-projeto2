{
  "nbformat": 4,
  "nbformat_minor": 0,
  "metadata": {
    "@webio": {
      "lastCommId": null,
      "lastKernelId": null
    },
    "hide_input": false,
    "kernelspec": {
      "display_name": "Python 3",
      "language": "python",
      "name": "python3"
    },
    "language_info": {
      "codemirror_mode": {
        "name": "ipython",
        "version": 3
      },
      "file_extension": ".py",
      "mimetype": "text/x-python",
      "name": "python",
      "nbconvert_exporter": "python",
      "pygments_lexer": "ipython3",
      "version": "3.7.3"
    },
    "colab": {
      "name": "Projeto2.ipynb",
      "provenance": [],
      "collapsed_sections": [
        "A9DmRO0-aOTZ",
        "ohijakmEaOT6"
      ],
      "toc_visible": true
    }
  },
  "cells": [
    {
      "cell_type": "markdown",
      "metadata": {
        "deletable": false,
        "editable": false,
        "nbgrader": {
          "cell_type": "markdown",
          "checksum": "bb27cc215bed80fa6fdde9534b833245",
          "grade": false,
          "grade_id": "cell-281706b5e048e21a",
          "locked": true,
          "schema_version": 3,
          "solution": false,
          "task": false
        },
        "id": "tRiZCDyDaOQw"
      },
      "source": [
        "# Equações diferenciais\n",
        "\n",
        "Uma equação diferencial, de forma bastante abstrata, é dada por\n",
        "$$ \\begin{cases}\n",
        "    y'(t)  & = F(t, y(t)) \\\\\n",
        "    y(t_0) & = y_0.\n",
        "\\end{cases} $$\n",
        "Uma solução é **uma função** $y(t)$ satisfazendo tanto a _condição inicial_ $y(t_0) = y_0$\n",
        "quanto a _dinâmica_ $y'(t) = F(t, y(t))$.\n",
        "\n",
        "Por questões práticas, também é comum dar um _intervalo de solução_, ou seja,\n",
        "pedir que $y$ seja definida (pelo menos) num intervalo $[a,b]$ onde $t_0 \\in [a,b]$.\n",
        "Aqui, vamos usar $a = t_0$,\n",
        "pensando \"fisicamente\" que a equação diferencial modela\n",
        "a evolução de alguma quantidade $y$ que conhecemos agora ($t_0$)\n",
        "e que queremos saber o quanto restará num momento futuro ($t_f = b$)."
      ]
    },
    {
      "cell_type": "markdown",
      "metadata": {
        "deletable": false,
        "editable": false,
        "nbgrader": {
          "cell_type": "markdown",
          "checksum": "4c41e58daaf454cb952d648096796120",
          "grade": false,
          "grade_id": "cell-23b0642fa9898b07",
          "locked": true,
          "schema_version": 3,
          "solution": false,
          "task": false
        },
        "id": "5ZIpo9FCaOQy"
      },
      "source": [
        "## Parte 1: O método de Euler\n",
        "\n",
        "Continuando nesta linha, é razoável discretizar o problema da seguinte forma:\n",
        "\n",
        "1. Definimos uma sequência de pontos $a = t_0 < t_1 < t_2 < \\cdots < t_n = t_f = b$ no intervalo $[a,b]$.\n",
        "2. Como $f$ é derivável, temos a aproximação $y(t_{i+1}) \\sim y(t_i) + (t_{i+1} - t_i)y'(t_i)$.\n",
        "3. A equação diferencial permide calcular $y'(t_i) = F(t_i, y(t_i))$.\n",
        "4. Isso define (recursivamente) uma sequência de aproximações $y_i$ para $y(t_i)$ pela fórmula\n",
        "$$ y_{i+1} = y_i + (t_{i+1} - t_i) F(t_i, y_i).$$\n",
        "\n",
        "A sequência mais simples de ser usada é, claro, a de $n+1$ pontos igualmente espaçados no intervalo $[a,b]$."
      ]
    },
    {
      "cell_type": "code",
      "metadata": {
        "deletable": false,
        "editable": false,
        "nbgrader": {
          "cell_type": "code",
          "checksum": "53a06d2146f278f346b1cf5add9110a5",
          "grade": false,
          "grade_id": "pylab",
          "locked": true,
          "schema_version": 3,
          "solution": false
        },
        "id": "yq3e2jT2aOQ0"
      },
      "source": [
        "import numpy as np\n",
        "import matplotlib.pyplot as plt"
      ],
      "execution_count": null,
      "outputs": []
    },
    {
      "cell_type": "markdown",
      "metadata": {
        "deletable": false,
        "editable": false,
        "nbgrader": {
          "cell_type": "markdown",
          "checksum": "eabf41cab3117189c9fe35c1494e23a3",
          "grade": false,
          "grade_id": "cell-9a13a38e62cdef90",
          "locked": true,
          "schema_version": 3,
          "solution": false,
          "task": false
        },
        "id": "FOQis7aGaOQ_"
      },
      "source": [
        "### 1. Implemente o método de Euler\n",
        "\n",
        "Escreva a função `euler` que divide o intervalo $[t_0, t_f]$ em `nsteps` intervalos de mesmo comprimento,\n",
        "e retorna\n",
        "- as `nsteps+1` extremidades `t_i`,\n",
        "- as `nsteps+1` aproximações `y_i` de $y$ nestes pontos.\n",
        "\n",
        "Dica: use `append` para construir os valores de `y_i`, mas retorne um `np.array()` para simplificar as contas."
      ]
    },
    {
      "cell_type": "code",
      "metadata": {
        "deletable": false,
        "nbgrader": {
          "cell_type": "code",
          "checksum": "d591747af908332cb12cfe65e1994982",
          "grade": false,
          "grade_id": "euler_rec",
          "locked": false,
          "schema_version": 3,
          "solution": true
        },
        "id": "CwO4hMOZaORB"
      },
      "source": [
        "def euler(F, t0, tf, y0, nsteps=100):\n",
        "    ts = np.linspace(t0, tf, num = nsteps+1)\n",
        "    ys = [y0]\n",
        "    ycurr = y0\n",
        "    tcurr = t0\n",
        "    for tnext in ts[1:]:\n",
        "        ynext = ycurr + F(tcurr, ycurr)*(tnext - tcurr)\n",
        "        tcurr = tnext\n",
        "        ycurr = ynext\n",
        "        ys.append(ynext)\n",
        "    return ts, np.array(ys)"
      ],
      "execution_count": null,
      "outputs": []
    },
    {
      "cell_type": "markdown",
      "metadata": {
        "deletable": false,
        "editable": false,
        "nbgrader": {
          "cell_type": "markdown",
          "checksum": "95e431f20bde61ceccd32077d6fb6719",
          "grade": false,
          "grade_id": "cell-82475f980e69d7b3",
          "locked": true,
          "schema_version": 3,
          "solution": false,
          "task": false
        },
        "id": "4DMWX9w_aORJ"
      },
      "source": [
        "Resolvendo uma EDO simples: $f' = f$."
      ]
    },
    {
      "cell_type": "code",
      "metadata": {
        "deletable": false,
        "editable": false,
        "nbgrader": {
          "cell_type": "code",
          "checksum": "241e9786a653a5a2abf7119a597f2be4",
          "grade": true,
          "grade_id": "euler_test1",
          "locked": true,
          "points": 2,
          "schema_version": 3,
          "solution": false
        },
        "id": "YgG0_RpQaORK"
      },
      "source": [
        "def F1(t,y):\n",
        "    return y\n",
        "\n",
        "t_100, y_100 = euler(F1, 0, 1, 1)\n",
        "assert len(t_100) == 101\n",
        "assert t_100[0] == 0\n",
        "assert t_100[-1] == 1"
      ],
      "execution_count": null,
      "outputs": []
    },
    {
      "cell_type": "code",
      "metadata": {
        "deletable": false,
        "editable": false,
        "nbgrader": {
          "cell_type": "code",
          "checksum": "b78083627e8d8457a484281483b2164b",
          "grade": true,
          "grade_id": "euler_test2",
          "locked": true,
          "points": 2,
          "schema_version": 3,
          "solution": false
        },
        "id": "Ivz3sKyWaORP"
      },
      "source": [
        "t_100, y_100 = euler(F1, 0, 1, 1)\n",
        "assert len(y_100) == 101\n",
        "assert y_100[0] == 1\n",
        "assert( abs(y_100[-1] - 2.704813829421526) < 5e-15 )"
      ],
      "execution_count": null,
      "outputs": []
    },
    {
      "cell_type": "markdown",
      "metadata": {
        "deletable": false,
        "editable": false,
        "nbgrader": {
          "cell_type": "markdown",
          "checksum": "7c46e1ec8651f9a934310ccdfc7abe19",
          "grade": false,
          "grade_id": "cell-200bba0594f3e280",
          "locked": true,
          "schema_version": 3,
          "solution": false,
          "task": false
        },
        "id": "9Rg2cKVxaORW"
      },
      "source": [
        "O que é melhor é que o método de Euler permite resolver equações diferenciais bastante (arbitrariamente!) complicadas:"
      ]
    },
    {
      "cell_type": "code",
      "metadata": {
        "deletable": false,
        "editable": false,
        "nbgrader": {
          "cell_type": "code",
          "checksum": "2465797877a7da192b2443ed6da14d87",
          "grade": true,
          "grade_id": "euler_test_3",
          "locked": true,
          "points": 2,
          "schema_version": 3,
          "solution": false
        },
        "id": "uj2X_7-jaORX"
      },
      "source": [
        "def F_dificil(t, y):\n",
        "    return t*np.sin(y) - t**2*np.cos(y)\n",
        "\n",
        "_, y_dificil = euler(F_dificil, 0, 2, 1, nsteps=100)\n",
        "assert( abs(y_dificil[-1] - 3.553673725510754) < 5e-15 )"
      ],
      "execution_count": null,
      "outputs": []
    },
    {
      "cell_type": "markdown",
      "metadata": {
        "id": "49Cx5_nhaORl"
      },
      "source": [
        "### 2. Qualidade da aproximação\n",
        "\n",
        "Agora, faça um gráfico da solução numérica com mil pontos $f_{1000}$ para $f' = f$,\n",
        "e da solução exata $f(t) = e^t$ no intervalo $[0,1]$.\n",
        "Faça também um gráfico da diferença entre estas soluções."
      ]
    },
    {
      "cell_type": "code",
      "metadata": {
        "deletable": false,
        "nbgrader": {
          "cell_type": "code",
          "checksum": "bc899190b6e200a928943ddb42d9fa4d",
          "grade": true,
          "grade_id": "euler_graph1",
          "locked": false,
          "points": 3,
          "schema_version": 3,
          "solution": true
        },
        "id": "TKzxiV12aORn",
        "outputId": "93ce07f6-d768-45cb-9908-fed71c41302d",
        "colab": {
          "base_uri": "https://localhost:8080/",
          "height": 281
        }
      },
      "source": [
        "xs, ys = euler(F1, 0, 1, 1, 1000)\n",
        "plt.plot(xs, ys, label = \"Solução de f' = f\")\n",
        "plt.plot(xs, np.exp(xs), label = \"Solução exata e^x\")\n",
        "ax = plt.gca()\n",
        "ax.set_title(\"Aproximação pelo método de Euler e solução exata\")\n",
        "plt.legend()\n",
        "plt.show()"
      ],
      "execution_count": null,
      "outputs": [
        {
          "output_type": "display_data",
          "data": {
            "image/png": "[encoded data removed]",
            "text/plain": [
              "<Figure size 432x288 with 1 Axes>"
            ]
          },
          "metadata": {
            "tags": [],
            "needs_background": "light"
          }
        }
      ]
    },
    {
      "cell_type": "code",
      "metadata": {
        "deletable": false,
        "nbgrader": {
          "cell_type": "code",
          "checksum": "8216836a9436dd11e33be43c63363e0b",
          "grade": false,
          "grade_id": "euler_graph11",
          "locked": false,
          "schema_version": 3,
          "solution": true,
          "task": false
        },
        "id": "tpj-Fr-vaORs",
        "outputId": "a86332a0-d0ce-402e-c585-76cea81bb1e3",
        "colab": {
          "base_uri": "https://localhost:8080/",
          "height": 265
        }
      },
      "source": [
        "xs, ys = euler(F1, 0, 1, 1, 999)\n",
        "plt.plot(xs, ys - np.exp(xs), label = \"Diferença da solução de f' = f por Euler com e^x\")\n",
        "ax = plt.gca()\n",
        "plt.legend()\n",
        "plt.show()"
      ],
      "execution_count": null,
      "outputs": [
        {
          "output_type": "display_data",
          "data": {
            "image/png": "[encoded data removed]",
            "text/plain": [
              "<Figure size 432x288 with 1 Axes>"
            ]
          },
          "metadata": {
            "tags": [],
            "needs_background": "light"
          }
        }
      ]
    },
    {
      "cell_type": "markdown",
      "metadata": {
        "deletable": false,
        "editable": false,
        "nbgrader": {
          "cell_type": "markdown",
          "checksum": "7b6c86f85c3fa6447cd5b370018df717",
          "grade": false,
          "grade_id": "cell-b8a6fd336716010d",
          "locked": true,
          "schema_version": 3,
          "solution": false,
          "task": false
        },
        "id": "J7lL2vQoaORr"
      },
      "source": [
        "Faça o gráfico agora do erro **relativo**."
      ]
    },
    {
      "cell_type": "code",
      "metadata": {
        "id": "Bh19DxozH8cl",
        "outputId": "7a134db8-9968-4cc1-e674-261d391d243d",
        "colab": {
          "base_uri": "https://localhost:8080/",
          "height": 281
        }
      },
      "source": [
        "xs, ys = euler(F1, 0, 1, 1, 999)\n",
        "\n",
        "errorel = []\n",
        "\n",
        "for i in range(1000):\n",
        "    errorel.append(abs(ys[i] - np.exp(xs[i]))/np.exp(xs[i]))\n",
        "plt.plot(xs, errorel)\n",
        "ax = plt.gca()\n",
        "ax.set_title(\"Erro relativo do método de Euler\")\n",
        "plt.show()"
      ],
      "execution_count": null,
      "outputs": [
        {
          "output_type": "display_data",
          "data": {
            "image/png": "[encoded data removed]",
            "text/plain": [
              "<Figure size 432x288 with 1 Axes>"
            ]
          },
          "metadata": {
            "tags": [],
            "needs_background": "light"
          }
        }
      ]
    },
    {
      "cell_type": "code",
      "metadata": {
        "deletable": false,
        "editable": false,
        "nbgrader": {
          "cell_type": "code",
          "checksum": "4d3d0371f8954d18fde3811405bef618",
          "grade": true,
          "grade_id": "cell-0e8233679e6d3a4c",
          "locked": true,
          "points": 1,
          "schema_version": 3,
          "solution": false,
          "task": false
        },
        "id": "EiETRgB5aORx"
      },
      "source": [
        "assert ax.title.get_text() != \"\"\n",
        "assert len(ax.lines) == 1"
      ],
      "execution_count": null,
      "outputs": []
    },
    {
      "cell_type": "code",
      "metadata": {
        "deletable": false,
        "editable": false,
        "nbgrader": {
          "cell_type": "code",
          "checksum": "6616694312475a5c39da2ece44544da3",
          "grade": true,
          "grade_id": "cell-fb4c204f97462e9a",
          "locked": true,
          "points": 1,
          "schema_version": 3,
          "solution": false,
          "task": false
        },
        "id": "Sd4x9GFKaOR1"
      },
      "source": [
        "xdata = ax.lines[0].get_xdata()\n",
        "assert min(xdata) == 0.0\n",
        "assert max(xdata) == 1.0\n",
        "\n",
        "ydata = ax.lines[0].get_ydata()\n",
        "assert min(ydata) > -0.001\n",
        "assert max(ydata) <  0.001"
      ],
      "execution_count": null,
      "outputs": []
    },
    {
      "cell_type": "code",
      "metadata": {
        "deletable": false,
        "editable": false,
        "nbgrader": {
          "cell_type": "code",
          "checksum": "0359d4a29931f117750527c41d258c7e",
          "grade": false,
          "grade_id": "cell-a5463b25f2c49231",
          "locked": true,
          "schema_version": 3,
          "solution": false,
          "task": false
        },
        "id": "it2bV4TNaOR7"
      },
      "source": [
        "ax = None"
      ],
      "execution_count": null,
      "outputs": []
    },
    {
      "cell_type": "markdown",
      "metadata": {
        "deletable": false,
        "editable": false,
        "nbgrader": {
          "cell_type": "markdown",
          "checksum": "fe3c16d0f29edbe95768e89b6d635f13",
          "grade": false,
          "grade_id": "cell-6f1b673d3ae4dcea",
          "locked": true,
          "schema_version": 3,
          "solution": false,
          "task": false
        },
        "id": "IJTuodK-aOSA"
      },
      "source": [
        "### 3. Medindo erros\n",
        "\n",
        "Suponha que conhecemos a solução exata da EDO, que chamaremos aqui de $g(t)$ para evitar confundir com $y_i$.\n",
        "Mesmo que em muitos casos seja bastante razoável usar o \"erro final\" $g(t_n) - y_n$,\n",
        "onde $g$ é a solução exata e $y_n$ a aproximação,\n",
        "vamos nos concentrar no \"erro total\".\n",
        "E, para ficar relativamente simples, vamos usar a **média dos valores absolutos das diferenças** entre $g(t_j)$ e $y_j$.\n",
        "Usamos a média, e não a soma, porque ao variar o número de passos esta quantidade se mantém homogênea."
      ]
    },
    {
      "cell_type": "code",
      "metadata": {
        "deletable": false,
        "nbgrader": {
          "cell_type": "code",
          "checksum": "b799db7fc07e5b724e2f3300d711e472",
          "grade": false,
          "grade_id": "def_erro",
          "locked": false,
          "schema_version": 3,
          "solution": true,
          "task": false
        },
        "id": "xL66x3oSaOSB"
      },
      "source": [
        "def erro(g, ys, ts):\n",
        "    \"\"\" Calcula o erro entre os valores de ys e g(ts).  ys e ts  devem ser vetores numpy, e  g uma função. \"\"\"\n",
        "    somaerros = 0\n",
        "    for i in range(len(ts)):\n",
        "        somaerros += abs(g(ts[i]) - ys[i])\n",
        "    errofinal = somaerros/(len(ts))\n",
        "    return errofinal"
      ],
      "execution_count": null,
      "outputs": []
    },
    {
      "cell_type": "markdown",
      "metadata": {
        "deletable": false,
        "editable": false,
        "nbgrader": {
          "cell_type": "markdown",
          "checksum": "4888a4b9f5c2ce4ac57cee6f5ba83ba7",
          "grade": false,
          "grade_id": "cell-e380e8c4261dd41d",
          "locked": true,
          "schema_version": 3,
          "solution": false,
          "task": false
        },
        "id": "3CVWntmbaOSH"
      },
      "source": [
        "Como o erro total diminui ao aumentar o número de passos efetuados?\n",
        "Faça um gráfico."
      ]
    },
    {
      "cell_type": "code",
      "metadata": {
        "deletable": false,
        "nbgrader": {
          "cell_type": "code",
          "checksum": "0d21fad656723dcdb975091678a6d8c1",
          "grade": true,
          "grade_id": "graf_erro",
          "locked": false,
          "points": 1,
          "schema_version": 3,
          "solution": true
        },
        "id": "90iLs-LeaOSI",
        "outputId": "2577e514-6fd4-4db7-d5c0-4b3442fbe4f9",
        "colab": {
          "base_uri": "https://localhost:8080/",
          "height": 335
        }
      },
      "source": [
        "%%time\n",
        "ns = np.logspace(1,5,num=21, dtype=int)\n",
        "\n",
        "erros = []\n",
        "for i in range(len(ns)):\n",
        "    ts, ys = euler(F1,0,1,1,ns[i])\n",
        "    erros.append(erro(np.exp, ys, ts))\n",
        "\n",
        "plt.plot(ns, erros, label = \"Média do erro absoluto para f=f'\")\n",
        "plt.legend()\n",
        "plt.xlabel(\"Passos\")\n",
        "plt.ylabel(\"Erro\")\n",
        "ax = plt.gca()\n",
        "ax.set_title(\"Erro final para diferentes passos\")\n",
        "ax.set_xscale('log')\n",
        "#ax.set_yscale('log') sugeriria deixar assim porque evidencia melhor a relação entre os eixos x e y (mas aí teria que alterar um pouco os comentários na celula abaixo)\n",
        "plt.grid();"
      ],
      "execution_count": null,
      "outputs": [
        {
          "output_type": "stream",
          "text": [
            "CPU times: user 765 ms, sys: 9.59 ms, total: 775 ms\n",
            "Wall time: 777 ms\n"
          ],
          "name": "stdout"
        },
        {
          "output_type": "display_data",
          "data": {
            "image/png": "[encoded data removed]",
            "text/plain": [
              "<Figure size 432x288 with 1 Axes>"
            ]
          },
          "metadata": {
            "tags": [],
            "needs_background": "light"
          }
        }
      ]
    },
    {
      "cell_type": "code",
      "metadata": {
        "deletable": false,
        "editable": false,
        "nbgrader": {
          "cell_type": "code",
          "checksum": "7e40434eb92dc1ed8de8dfc0be70db63",
          "grade": true,
          "grade_id": "cell-778ea7cac84cbd0f",
          "locked": true,
          "points": 2,
          "schema_version": 3,
          "solution": false,
          "task": false
        },
        "id": "wARgugEfaOSO"
      },
      "source": [
        "assert ax.title.get_text() != \"\"\n",
        "assert len(ax.lines) == 1\n",
        "\n",
        "ydata = ax.lines[0].get_ydata()\n",
        "assert 1e-6 < min(ydata) < 1e-4\n",
        "assert 1e-2 < max(ydata) < 1e-1"
      ],
      "execution_count": null,
      "outputs": []
    },
    {
      "cell_type": "markdown",
      "metadata": {
        "deletable": false,
        "editable": false,
        "nbgrader": {
          "cell_type": "markdown",
          "checksum": "211c610f27966f991a7cfaec035fd53d",
          "grade": false,
          "grade_id": "cell-27c7f2fbee5ec51a",
          "locked": true,
          "schema_version": 3,
          "solution": false,
          "task": false
        },
        "id": "pJLsu9DWaOSU"
      },
      "source": [
        "E comente o resultado."
      ]
    },
    {
      "cell_type": "markdown",
      "metadata": {
        "deletable": false,
        "nbgrader": {
          "cell_type": "markdown",
          "checksum": "9993a1f157f4dbfae0d8ff6f2068b968",
          "grade": true,
          "grade_id": "coment_erro",
          "locked": false,
          "points": 2,
          "schema_version": 3,
          "solution": true
        },
        "id": "kvyyURWMaOSU"
      },
      "source": [
        "Como já se poderia esperar, o erro decresce com o aumento do número de passos. É esperado, visto que um maior número de passos diminui a propagação de erro inerente ao método. O gráfico, todavia, evidencia outra coisa, não tão imediatamente esperável: que esse decrescimento acontece de forma exponencial."
      ]
    },
    {
      "cell_type": "markdown",
      "metadata": {
        "deletable": false,
        "editable": false,
        "nbgrader": {
          "cell_type": "markdown",
          "checksum": "1cd883fef751fd04de908313104da172",
          "grade": false,
          "grade_id": "cell-b7a9adb2cb70f486",
          "locked": true,
          "schema_version": 3,
          "solution": false,
          "task": false
        },
        "id": "CHPyorElaOSW"
      },
      "source": [
        "### 4. Sistemas de Equações\n",
        "\n",
        "Se você usar funções \"vetorizadas\" para `F`,\n",
        "o seu método de Euler é capaz de resolver (aproximar) até _sistemas_ de equações diferenciais.\n",
        "\n",
        "Por exemplo, o sistema\n",
        "$$ \\begin{align}\n",
        "v_0' & =  v_1 \\\\\n",
        "v_1' & = -v_0\n",
        "\\end{align} $$\n",
        "que é equivalente à equação diferencial trigonométrica básica $y'' = -y$,\n",
        "pode ser simulado assim:"
      ]
    },
    {
      "cell_type": "code",
      "metadata": {
        "deletable": false,
        "editable": false,
        "nbgrader": {
          "cell_type": "code",
          "checksum": "d2dfe31ff4845f111a9e6971c14220ad",
          "grade": true,
          "grade_id": "euler_2d",
          "locked": true,
          "points": 2,
          "schema_version": 3,
          "solution": false
        },
        "id": "3VJzuh-VaOSW",
        "outputId": "7fca61d5-c2b6-4be2-a581-c62c33e07a7b",
        "colab": {
          "base_uri": "https://localhost:8080/",
          "height": 208
        }
      },
      "source": [
        "def F2(t, v):\n",
        "    return np.array([v[1],-v[0]])\n",
        "\n",
        "ans = np.array([-1.0505597866729235, -0.0010851561020816455])\n",
        "ts, vs = euler(F2, 0, np.pi, np.array([1.0,0.0]), nsteps=100)\n",
        "\n",
        "assert( all(abs(vs[-1]/ans - 1) < 1e-15) )"
      ],
      "execution_count": null,
      "outputs": [
        {
          "output_type": "error",
          "ename": "AssertionError",
          "evalue": "ignored",
          "traceback": [
            "\u001b[0;31m---------------------------------------------------------------------------\u001b[0m",
            "\u001b[0;31mAssertionError\u001b[0m                            Traceback (most recent call last)",
            "\u001b[0;32m<ipython-input-14-038a456ca6fb>\u001b[0m in \u001b[0;36m<module>\u001b[0;34m()\u001b[0m\n\u001b[1;32m      5\u001b[0m \u001b[0mts\u001b[0m\u001b[0;34m,\u001b[0m \u001b[0mvs\u001b[0m \u001b[0;34m=\u001b[0m \u001b[0meuler\u001b[0m\u001b[0;34m(\u001b[0m\u001b[0mF2\u001b[0m\u001b[0;34m,\u001b[0m \u001b[0;36m0\u001b[0m\u001b[0;34m,\u001b[0m \u001b[0mnp\u001b[0m\u001b[0;34m.\u001b[0m\u001b[0mpi\u001b[0m\u001b[0;34m,\u001b[0m \u001b[0mnp\u001b[0m\u001b[0;34m.\u001b[0m\u001b[0marray\u001b[0m\u001b[0;34m(\u001b[0m\u001b[0;34m[\u001b[0m\u001b[0;36m1.0\u001b[0m\u001b[0;34m,\u001b[0m\u001b[0;36m0.0\u001b[0m\u001b[0;34m]\u001b[0m\u001b[0;34m)\u001b[0m\u001b[0;34m,\u001b[0m \u001b[0mnsteps\u001b[0m\u001b[0;34m=\u001b[0m\u001b[0;36m100\u001b[0m\u001b[0;34m)\u001b[0m\u001b[0;34m\u001b[0m\u001b[0;34m\u001b[0m\u001b[0m\n\u001b[1;32m      6\u001b[0m \u001b[0;34m\u001b[0m\u001b[0m\n\u001b[0;32m----> 7\u001b[0;31m \u001b[0;32massert\u001b[0m\u001b[0;34m(\u001b[0m \u001b[0mall\u001b[0m\u001b[0;34m(\u001b[0m\u001b[0mabs\u001b[0m\u001b[0;34m(\u001b[0m\u001b[0mvs\u001b[0m\u001b[0;34m[\u001b[0m\u001b[0;34m-\u001b[0m\u001b[0;36m1\u001b[0m\u001b[0;34m]\u001b[0m\u001b[0;34m/\u001b[0m\u001b[0mans\u001b[0m \u001b[0;34m-\u001b[0m \u001b[0;36m1\u001b[0m\u001b[0;34m)\u001b[0m \u001b[0;34m<\u001b[0m \u001b[0;36m1e-15\u001b[0m\u001b[0;34m)\u001b[0m \u001b[0;34m)\u001b[0m\u001b[0;34m\u001b[0m\u001b[0;34m\u001b[0m\u001b[0m\n\u001b[0m",
            "\u001b[0;31mAssertionError\u001b[0m: "
          ]
        }
      ]
    },
    {
      "cell_type": "markdown",
      "metadata": {
        "id": "yCBZqKMRaOSb"
      },
      "source": [
        "Dependendo de como você tenha implementado `euler()`, os valores de `vs` serão todos iguais,\n",
        "pois você terá construído uma lista com `nsteps+1` vezes o mesmo `array`.\n",
        "Para corrigir isso, modifique sua função `euler` para criar uma cópia de cada valor de $f_i$ antes de incluir na lista."
      ]
    },
    {
      "cell_type": "code",
      "metadata": {
        "deletable": false,
        "nbgrader": {
          "cell_type": "code",
          "checksum": "fcad7bcd423ce611193dafe839ac396d",
          "grade": false,
          "grade_id": "new_euler",
          "locked": false,
          "schema_version": 3,
          "solution": true
        },
        "id": "M6CYiO6haOSc"
      },
      "source": [
        "def euler(F, t0, tf, y0, nsteps=100):\n",
        "    ts, ys = np.linspace(t0, tf, num=nsteps+1), [y0]\n",
        "    tcurr,  ycurr = t0, y0\n",
        "    for tnext in ts[1:]:\n",
        "        ynext = ycurr + F(tcurr, ycurr)*(tnext - tcurr)\n",
        "        tcurr, ycurr = tnext, ynext      \n",
        "        ys.append(ynext)\n",
        "    return ts, np.array(ys)"
      ],
      "execution_count": null,
      "outputs": []
    },
    {
      "cell_type": "markdown",
      "metadata": {
        "deletable": false,
        "editable": false,
        "nbgrader": {
          "cell_type": "markdown",
          "checksum": "a6cc495f6f6791d12e5d481217801fd9",
          "grade": false,
          "grade_id": "cell-36f3cde562ae5124",
          "locked": true,
          "schema_version": 3,
          "solution": false,
          "task": false
        },
        "id": "B8RjAtkgaOSj"
      },
      "source": [
        "Para usar as coordenadas da solução separadamente, ou seja, $f_1$ e $f_2$,\n",
        "temos que transpor `v`.\n",
        "(Note que os métodos constróem ao longo do tempo, e não por coordenadas)"
      ]
    },
    {
      "cell_type": "code",
      "metadata": {
        "deletable": false,
        "editable": false,
        "nbgrader": {
          "cell_type": "code",
          "checksum": "907d0d1691711336da5146571e2c8c06",
          "grade": false,
          "grade_id": "cell-8dac5a478f3c96c0",
          "locked": true,
          "schema_version": 3,
          "solution": false
        },
        "id": "-fQIugHGaOSj",
        "outputId": "a340d76d-e57d-40b3-a429-01d02b9a4a65",
        "colab": {
          "base_uri": "https://localhost:8080/",
          "height": 90
        }
      },
      "source": [
        "ts, vs = euler(F2, 0, np.pi, np.array([1.0,0.0]), nsteps=100)\n",
        "vs = np.transpose(vs)\n",
        "vs[:,:10]"
      ],
      "execution_count": null,
      "outputs": [
        {
          "output_type": "execute_result",
          "data": {
            "text/plain": [
              "array([[ 1.        ,  1.        ,  0.99901304,  0.99703912,  0.99407921,\n",
              "         0.99013527,  0.9852102 ,  0.97930792,  0.97243327,  0.96459208],\n",
              "       [ 0.        , -0.03141593, -0.06283185, -0.09421677, -0.12553968,\n",
              "        -0.1567696 , -0.18787562, -0.21882691, -0.24959277, -0.28014267]])"
            ]
          },
          "metadata": {
            "tags": []
          },
          "execution_count": 16
        }
      ]
    },
    {
      "cell_type": "markdown",
      "metadata": {
        "deletable": false,
        "editable": false,
        "nbgrader": {
          "cell_type": "markdown",
          "checksum": "6632c9c26b8d36edf4d9c630cff86923",
          "grade": false,
          "grade_id": "cell-84306ae405eea007",
          "locked": true,
          "schema_version": 3,
          "solution": false,
          "task": false
        },
        "id": "FmH7Syk9aOSp"
      },
      "source": [
        "### 5. Mais gráficos\n",
        "\n",
        "Observe que a sua solução numérica realmente está próxima da solução analítica,\n",
        "fazendo um gráfico para a função e sua derivada,\n",
        "tanto numéricas como analíticas."
      ]
    },
    {
      "cell_type": "code",
      "metadata": {
        "deletable": false,
        "nbgrader": {
          "cell_type": "code",
          "checksum": "a9ed687549e6871fe9d4f09e0ef5385f",
          "grade": false,
          "grade_id": "cos_sin_graf",
          "locked": false,
          "schema_version": 3,
          "solution": true,
          "task": false
        },
        "id": "3zHFK6YGaOSq",
        "outputId": "45770d29-3059-4b37-f64e-3b8922e49d8c",
        "colab": {
          "base_uri": "https://localhost:8080/",
          "height": 283
        }
      },
      "source": [
        "# Por Euler\n",
        "# ---------\n",
        "ts, ys = euler(F2, 0, np.pi, np.array([1.0,0.0]), nsteps=100)\n",
        "vs = np.transpose(ys)\n",
        "\n",
        "# Analítica\n",
        "# ---------\n",
        "ans = np.array([-1.0505597866729235, -0.0010851561020816455])\n",
        "\n",
        "# Gráfico\n",
        "# -------\n",
        "plt.plot(ts, vs[0], label = \"Solução numérica da primeira derivada\")\n",
        "plt.plot(ts, vs[1], label = \"Solução numérica da segunda derivada\")\n",
        "plt.plot(ts, -np.sin(ts), label = \"Solução analítica da primeira derivada\")\n",
        "plt.plot(ts, np.cos(ts), label = \"Solução analítica da segunda derivada\")\n",
        "plt.legend(loc='center left', bbox_to_anchor=(1, 0.5))\n",
        "plt.title('Solução numérica, analítica e suas derivadas de $F2$.')\n",
        "ax = plt.gca()\n",
        "#ax.set_xscale('log')\n",
        "#ax.set_yscale('log')\n",
        "ax.set_xlabel('')\n",
        "ax.set_ylabel('')\n",
        "plt.grid()\n",
        "plt.show();"
      ],
      "execution_count": null,
      "outputs": [
        {
          "output_type": "display_data",
          "data": {
            "image/png": "[encoded data removed]",
            "text/plain": [
              "<Figure size 432x288 with 1 Axes>"
            ]
          },
          "metadata": {
            "tags": [],
            "needs_background": "light"
          }
        }
      ]
    },
    {
      "cell_type": "code",
      "metadata": {
        "deletable": false,
        "editable": false,
        "nbgrader": {
          "cell_type": "code",
          "checksum": "b0ccf113337ecaa3ef3a20b6e387ef52",
          "grade": true,
          "grade_id": "cell-5d346a2441fa9837",
          "locked": true,
          "points": 1,
          "schema_version": 3,
          "solution": false,
          "task": false
        },
        "id": "ZP_x9BqbaOSv"
      },
      "source": [
        "assert ax.title.get_text() != \"\"\n",
        "assert len(ax.lines) == 4\n",
        "assert len(ax.legend().texts) == 4"
      ],
      "execution_count": null,
      "outputs": []
    },
    {
      "cell_type": "code",
      "metadata": {
        "deletable": false,
        "editable": false,
        "nbgrader": {
          "cell_type": "code",
          "checksum": "8e98eb64dfc8017f9c6df39032eec8b7",
          "grade": true,
          "grade_id": "cell-faf8107be6af3b1e",
          "locked": true,
          "points": 1,
          "schema_version": 3,
          "solution": false,
          "task": false
        },
        "id": "6S32_DzXaOS2"
      },
      "source": [
        "xdata = ax.lines[0].get_xdata()\n",
        "assert min(xdata) == 0.0\n",
        "assert max(xdata) == np.pi\n",
        "\n",
        "ydata = [l.get_ydata() for l in ax.lines]\n",
        "assert -1.1 < np.min(ydata) < -1.0\n",
        "assert np.max(ydata) == 1.0"
      ],
      "execution_count": null,
      "outputs": []
    },
    {
      "cell_type": "code",
      "metadata": {
        "deletable": false,
        "editable": false,
        "nbgrader": {
          "cell_type": "code",
          "checksum": "59d2450d6381a0a7d3adb1856808c5b5",
          "grade": false,
          "grade_id": "cell-3c4123b49a8abb84",
          "locked": true,
          "schema_version": 3,
          "solution": false,
          "task": false
        },
        "id": "b3aIGiS8aOS6"
      },
      "source": [
        "ax = None"
      ],
      "execution_count": null,
      "outputs": []
    },
    {
      "cell_type": "markdown",
      "metadata": {
        "deletable": false,
        "editable": false,
        "nbgrader": {
          "cell_type": "markdown",
          "checksum": "b7cb8d8fe956a610975444a91d98202d",
          "grade": false,
          "grade_id": "cell-050d7a51ef47d0ba",
          "locked": true,
          "schema_version": 3,
          "solution": false,
          "task": false
        },
        "id": "Zhq0O_gtaOS9"
      },
      "source": [
        "Agora, aumente o intervalo de integração para $6\\pi$, e use 600 passos."
      ]
    },
    {
      "cell_type": "code",
      "metadata": {
        "deletable": false,
        "nbgrader": {
          "cell_type": "code",
          "checksum": "411dea6d90fdd472ada57ea1666cd9cd",
          "grade": true,
          "grade_id": "cos_sin_graf2",
          "locked": false,
          "points": 2,
          "schema_version": 3,
          "solution": true
        },
        "id": "NmEPVVx1aOS9",
        "outputId": "5dc516e2-534c-4511-d085-afefbe53f804",
        "colab": {
          "base_uri": "https://localhost:8080/",
          "height": 283
        }
      },
      "source": [
        "# Por Euler\n",
        "# ---------\n",
        "ts, ys = euler(F2, 0, 6*np.pi, np.array([1.0,0.0]), nsteps=600)\n",
        "vs = np.transpose(ys)\n",
        "\n",
        "# Analítica\n",
        "# ---------\n",
        "ans = np.array([-1.0505597866729235, -0.0010851561020816455])\n",
        "\n",
        "# Gráfico\n",
        "# -------\n",
        "plt.plot(ts, vs[0], label = \"Solução numérica da primeira derivada\")\n",
        "plt.plot(ts, vs[1], label = \"Solução numérica da segunda derivada\")\n",
        "plt.plot(ts, -np.sin(ts), label = \"Solução analítica da primeira derivada\")\n",
        "plt.plot(ts, np.cos(ts), label = \"Solução analítica da segunda derivada\")\n",
        "plt.legend(loc='center left', bbox_to_anchor=(1, 0.5))\n",
        "plt.title('Solução numérica, analítica e suas derivadas de $F2$.')\n",
        "ax = plt.gca()\n",
        "ax.set_xlabel('')\n",
        "ax.set_ylabel('')\n",
        "plt.grid()\n",
        "plt.show();"
      ],
      "execution_count": null,
      "outputs": [
        {
          "output_type": "display_data",
          "data": {
            "image/png": "[encoded data removed]",
            "text/plain": [
              "<Figure size 432x288 with 1 Axes>"
            ]
          },
          "metadata": {
            "tags": [],
            "needs_background": "light"
          }
        }
      ]
    },
    {
      "cell_type": "markdown",
      "metadata": {
        "deletable": false,
        "editable": false,
        "nbgrader": {
          "cell_type": "markdown",
          "checksum": "47405926736c40c1f53f9c56b410f734",
          "grade": false,
          "grade_id": "cell-4724f173ba3937a3",
          "locked": true,
          "schema_version": 3,
          "solution": false,
          "task": false
        },
        "id": "zyJuTtHyaOTE"
      },
      "source": [
        "O que aconteceu?"
      ]
    },
    {
      "cell_type": "markdown",
      "metadata": {
        "deletable": false,
        "nbgrader": {
          "cell_type": "markdown",
          "checksum": "02f31542260146c622f5e4edddd3aa15",
          "grade": true,
          "grade_id": "cell-91158401ba7356dc",
          "locked": false,
          "points": 2,
          "schema_version": 3,
          "solution": true
        },
        "id": "QAifYiulaOTF"
      },
      "source": [
        "Podemos observar que aumentando proporcionalmente o tamanho do intervalo e também o número de passos, a cada iteração o erro aumenta."
      ]
    },
    {
      "cell_type": "markdown",
      "metadata": {
        "deletable": false,
        "editable": false,
        "nbgrader": {
          "cell_type": "markdown",
          "checksum": "7a43287d816e992687488a0eaee07d8a",
          "grade": false,
          "grade_id": "cell-c9328106d8346e75",
          "locked": true,
          "schema_version": 3,
          "solution": false,
          "task": false
        },
        "id": "He61nN_uaOTF"
      },
      "source": [
        "### 6. Erros multidimensionais\n",
        "\n",
        "Voltemos ao intervalo $[0, \\pi]$.\n",
        "Como se comporta o erro no caso do sistema acima, conforme o número de pontos aumenta?\n",
        "Qual erro é mais importante: o da derivada ($f_2$) ou o da função original ($f_1$)?\n",
        "Você vê uma razão para isso?"
      ]
    },
    {
      "cell_type": "code",
      "metadata": {
        "deletable": false,
        "nbgrader": {
          "cell_type": "code",
          "checksum": "7c1b30062a3f6fd547adfceba016085e",
          "grade": false,
          "grade_id": "erros_sin_cos",
          "locked": false,
          "schema_version": 3,
          "solution": true,
          "task": false
        },
        "id": "3pAGCoKUaOTG"
      },
      "source": [
        "%%time\n",
        "ns = np.logspace(1,5,num=21, dtype=int)\n",
        "# YOUR CODE HERE\n",
        "raise NotImplementedError()\n",
        "ax = plt.gca()\n",
        "plt.show()"
      ],
      "execution_count": null,
      "outputs": []
    },
    {
      "cell_type": "code",
      "metadata": {
        "deletable": false,
        "editable": false,
        "nbgrader": {
          "cell_type": "code",
          "checksum": "a4691d51d38286fda6a72f257a18a938",
          "grade": true,
          "grade_id": "cell-49e83e9d5f3391f3",
          "locked": true,
          "points": 1,
          "schema_version": 3,
          "solution": false,
          "task": false
        },
        "id": "MNt8vqGEaOTK"
      },
      "source": [
        "assert ax.title.get_text() != \"\"\n",
        "assert len(ax.lines) == 2\n",
        "assert len(ax.legend().texts) == 2"
      ],
      "execution_count": null,
      "outputs": []
    },
    {
      "cell_type": "code",
      "metadata": {
        "deletable": false,
        "editable": false,
        "nbgrader": {
          "cell_type": "code",
          "checksum": "82dfcb62d9e5e48be06470b634c79a49",
          "grade": true,
          "grade_id": "cell-f9dae32dd31988a8",
          "locked": true,
          "points": 1,
          "schema_version": 3,
          "solution": false,
          "task": false
        },
        "id": "bLDLsSzzaOTN"
      },
      "source": [
        "xdata = ax.lines[0].get_xdata()\n",
        "assert min(xdata) == 1e1\n",
        "assert max(xdata) == 1e5\n",
        "\n",
        "ydata = [l.get_ydata() for l in ax.lines]\n",
        "assert 1e-5 < np.min(ydata) < 5e-5\n",
        "assert 1e-1 < np.max(ydata) < 5e-1"
      ],
      "execution_count": null,
      "outputs": []
    },
    {
      "cell_type": "markdown",
      "metadata": {
        "id": "NQzcoPN_aOTP"
      },
      "source": [
        "Comente abaixo"
      ]
    },
    {
      "cell_type": "markdown",
      "metadata": {
        "deletable": false,
        "nbgrader": {
          "cell_type": "markdown",
          "checksum": "8a66a1ac0528cf5f1ab7b611b2a8d80b",
          "grade": true,
          "grade_id": "cell-f5fffd6a5fbd6a51",
          "locked": false,
          "points": 1,
          "schema_version": 3,
          "solution": true
        },
        "id": "e9h3xmH-aOTR"
      },
      "source": [
        "YOUR ANSWER HERE"
      ]
    },
    {
      "cell_type": "markdown",
      "metadata": {
        "id": "PeztquIGaOTT"
      },
      "source": [
        "O erro certamente depende do intervalo \"de integração\" da equação diferencial.\n",
        "Será que a importância relativa também depende? Faça o gráfico do erro para o intervalo $[0, \\pi/2]$ e conclua."
      ]
    },
    {
      "cell_type": "code",
      "metadata": {
        "deletable": false,
        "nbgrader": {
          "cell_type": "code",
          "checksum": "d6043eb00622104a146b4f1a76247612",
          "grade": true,
          "grade_id": "graf_err_sin_cos_2",
          "locked": false,
          "points": 1,
          "schema_version": 3,
          "solution": true
        },
        "id": "yKjIkLoyaOTU"
      },
      "source": [
        "%%time\n",
        "ns = np.logspace(1,5,num=21, dtype=int)\n",
        "# YOUR CODE HERE\n",
        "raise NotImplementedError()"
      ],
      "execution_count": null,
      "outputs": []
    },
    {
      "cell_type": "markdown",
      "metadata": {
        "deletable": false,
        "editable": false,
        "nbgrader": {
          "cell_type": "markdown",
          "checksum": "63b39606c5eeb94692855cbf4bc55a36",
          "grade": false,
          "grade_id": "cell-b6852bcc9eb6cf76",
          "locked": true,
          "schema_version": 3,
          "solution": false,
          "task": false
        },
        "id": "GrXzi-LhaOTX"
      },
      "source": [
        "Comente"
      ]
    },
    {
      "cell_type": "markdown",
      "metadata": {
        "deletable": false,
        "nbgrader": {
          "cell_type": "markdown",
          "checksum": "7fc5a47b76f4454245ce36849a9034ee",
          "grade": true,
          "grade_id": "cell-488ef29693ca30b8",
          "locked": false,
          "points": 2,
          "schema_version": 3,
          "solution": true
        },
        "id": "CW0tAoYAaOTZ"
      },
      "source": [
        "YOUR ANSWER HERE"
      ]
    },
    {
      "cell_type": "markdown",
      "metadata": {
        "deletable": false,
        "editable": false,
        "nbgrader": {
          "cell_type": "markdown",
          "checksum": "c4983b683ea11da1520a91d1594025e0",
          "grade": false,
          "grade_id": "cell-5aeab9b3e5ab868f",
          "locked": true,
          "schema_version": 3,
          "solution": false,
          "task": false
        },
        "id": "q8CbGvRuaOTZ"
      },
      "source": [
        "## Parte 2: Métodos de maior ordem para EDOs\n",
        "\n",
        "### Equações diferenciais e Integrais\n",
        "\n",
        "Calcular a integral $\\int_a^b h(t) \\, dt$ é a mesma coisa que resolver a equação diferencial\n",
        "$$ \\begin{cases}\n",
        "  y'(t) & = h(t) \\\\\n",
        "  f(a)  & = 0,\n",
        "\\end{cases} $$\n",
        "pelo Teorema Fundamental do Cálculo.\n",
        "Portanto, é possível implementar uma função `int_rect` usando a função `euler`.\n",
        "\n",
        "Isso é verdade para vários métodos de integração: muitas vezes existe um método de Equações Diferenciais cujo caso particular é um método de integração quando a ED é \"trivial\"\n",
        "(ou seja, quando a fórmula $F$ para $y'(t)$ não depende de $y(t)$)."
      ]
    },
    {
      "cell_type": "markdown",
      "metadata": {
        "deletable": false,
        "editable": false,
        "nbgrader": {
          "cell_type": "markdown",
          "checksum": "04428f1dfc7f4a1e153334ab49310015",
          "grade": false,
          "grade_id": "cell-7b97f72f7f552972",
          "locked": true,
          "schema_version": 3,
          "solution": false,
          "task": false
        },
        "id": "A9DmRO0-aOTZ"
      },
      "source": [
        "### O método do Trapézio para EDOs: uma equação implícita\n",
        "\n",
        "Inversamente, podemos usar métodos de integração e \"generalizar\" para usar em EDOs.\n",
        "Por exemplo, podemos usar a aproximação do trapézio:\n",
        "$$ y(h) = y(0) + \\int_0^h y'(t) \\, dt \\sim h \\cdot \\frac{y'(0) + y'(h)}{2}.$$\n",
        "\n",
        "Substituindo a EDO $f'(t) = F(t, f(t))$, isto dá uma equação **implícita** para calcular $y(h)$."
      ]
    },
    {
      "cell_type": "markdown",
      "metadata": {
        "deletable": false,
        "editable": false,
        "nbgrader": {
          "cell_type": "markdown",
          "checksum": "b9d0d3f5c2aec42b9d3b29fd54d6e859",
          "grade": false,
          "grade_id": "cell-c4286e9bd138d09d",
          "locked": true,
          "schema_version": 3,
          "solution": false,
          "task": false
        },
        "id": "R1Q7vupdaOTa"
      },
      "source": [
        "### Trapézio 1: Equação implícita\n",
        "\n",
        "Escreva a equação implícita que a aproximação $y_1$ de $y(h)$ satisfaz, em função de $y_0$, $h$, $F$, $\\ldots$."
      ]
    },
    {
      "cell_type": "markdown",
      "metadata": {
        "deletable": false,
        "nbgrader": {
          "cell_type": "markdown",
          "checksum": "30c15b9a5cf643ebac06383c55e60119",
          "grade": true,
          "grade_id": "cell-21e5a9a9fe6bfda0",
          "locked": false,
          "points": 1,
          "schema_version": 3,
          "solution": true
        },
        "id": "gjeJIWFHaOTb"
      },
      "source": [
        "$$\n",
        "y_1 \\approx \n",
        "$$"
      ]
    },
    {
      "cell_type": "markdown",
      "metadata": {
        "deletable": false,
        "editable": false,
        "nbgrader": {
          "cell_type": "markdown",
          "checksum": "b968d010d5b719c36485d2a5235da277",
          "grade": false,
          "grade_id": "cell-edeec3a139f779d2",
          "locked": true,
          "schema_version": 3,
          "solution": false,
          "task": false
        },
        "id": "RG3wkDpraOTb"
      },
      "source": [
        "### Trapézio 2: resolvendo a equação implícita de 1 passo\n",
        "\n",
        "Escreva uma função que dá o passo do método do trapézio.\n",
        "\n",
        "Obs: O método da secante precisa de dois pontos para iniciar.\n",
        "Que valor de $y$ deve estar próximo à solução?\n",
        "Se você tiver que \"chutar\" outro valor, este provavelmente estará mais próximo ou mais distante?\n",
        "Qual deles você deve usar como primeiro e qual como segundo valor na secante?"
      ]
    },
    {
      "cell_type": "code",
      "metadata": {
        "deletable": false,
        "nbgrader": {
          "cell_type": "code",
          "checksum": "114ef2a4382708065a06b525add1bd47",
          "grade": false,
          "grade_id": "cell-3472403326f99e4f",
          "locked": false,
          "schema_version": 3,
          "solution": true,
          "task": false
        },
        "id": "l9zgn1MfaOTb"
      },
      "source": [
        "# Inclua aqui seu código da secante\n",
        "def secante(F, t0, y0, h=1e-6, maxiter=10000):\n",
        "    \"\"\" Método da secante para a função  F  no intervalo  [t0,y0].\n",
        "\n",
        "        Retorna um número  z. O algoritmo para quando o último passo é menor do \n",
        "        que  h, ou depois de  maxiter  iterações.\n",
        "    \"\"\"\n",
        "    def passo_secante(F, t0,y0): \n",
        "        \"\"\"Dada a função  F, e o intervalo  [t0,y0], aplica um passo do método da secante.\"\"\"\n",
        "        F0, F1 = F(t0,y0), F(t0+h,y0+h) # Declaração de variaveis auxiliares\n",
        "        return (y0*F1 - t0*F0)/(F1 - F0)\n",
        "    \n",
        "    # Estrutura iterativa\n",
        "    num_iter = 0 # Inicializamos a var\n",
        "    while True:\n",
        "        z = passo_secante(F, t0, y0)\n",
        "        num_iter += 1\n",
        "\n",
        "        # Se podemos parar, paramos\n",
        "        if abs(z - y0) < h or num_iter == maxiter: return z\n",
        "\n",
        "        # Se não, atualizamos as extremidades do intervalo\n",
        "        t0, y0 = y0, z"
      ],
      "execution_count": null,
      "outputs": []
    },
    {
      "cell_type": "code",
      "metadata": {
        "deletable": false,
        "nbgrader": {
          "cell_type": "code",
          "checksum": "924142c645cdc91aed79742a04bc9344",
          "grade": false,
          "grade_id": "cell-a2e59b3caa310f1a",
          "locked": false,
          "schema_version": 3,
          "solution": true
        },
        "id": "iXjlnFGCaOTf"
      },
      "source": [
        "def trapezoidal_step_sec(F, tcurr, ycurr, h) -> float:\n",
        "    \"\"\"Resolve a equação implícita do método trapezoidal pelo método da secante, partindo de (tcurr,ycurr),\n",
        "    retornando uma aproximação de  y  em  tcurr+h.\"\"\"\n",
        "    tnext = tcurr+h\n",
        "    raiz = secante(F, tcurr, ycurr, h)\n",
        "    return F(tnext, raiz)"
      ],
      "execution_count": null,
      "outputs": []
    },
    {
      "cell_type": "markdown",
      "metadata": {
        "deletable": false,
        "editable": false,
        "nbgrader": {
          "cell_type": "markdown",
          "checksum": "ed4f4f8829f4488258e8e32d31171bfd",
          "grade": false,
          "grade_id": "cell-fdfe9453702c3c87",
          "locked": true,
          "schema_version": 3,
          "solution": false,
          "task": false
        },
        "id": "8p0W6s-BaOTg"
      },
      "source": [
        "### Alguns testes simples"
      ]
    },
    {
      "cell_type": "code",
      "metadata": {
        "deletable": false,
        "editable": false,
        "nbgrader": {
          "cell_type": "code",
          "checksum": "2755c02044cb2e4ec17048be5c57675e",
          "grade": true,
          "grade_id": "cell-fc0e186f42fe6f75",
          "locked": true,
          "points": 2,
          "schema_version": 3,
          "solution": false
        },
        "id": "wfE05k18aOTh",
        "outputId": "d224d449-2157-4988-f8c7-0a527e37ab36",
        "colab": {
          "base_uri": "https://localhost:8080/",
          "height": 282
        }
      },
      "source": [
        "def G(t,y):\n",
        "    return t - np.cos(y)\n",
        "\n",
        "ynext = trapezoidal_step_sec(G, 0, 1, 0.1)\n",
        "assert abs(ynext - 0.9488541465905801) < 1e-14"
      ],
      "execution_count": null,
      "outputs": [
        {
          "output_type": "stream",
          "text": [
            "/usr/local/lib/python3.6/dist-packages/ipykernel_launcher.py:11: RuntimeWarning: divide by zero encountered in double_scalars\n",
            "  # This is added back by InteractiveShellApp.init_path()\n",
            "/usr/local/lib/python3.6/dist-packages/ipykernel_launcher.py:2: RuntimeWarning: invalid value encountered in cos\n",
            "  \n"
          ],
          "name": "stderr"
        },
        {
          "output_type": "error",
          "ename": "AssertionError",
          "evalue": "ignored",
          "traceback": [
            "\u001b[0;31m---------------------------------------------------------------------------\u001b[0m",
            "\u001b[0;31mAssertionError\u001b[0m                            Traceback (most recent call last)",
            "\u001b[0;32m<ipython-input-98-dce646fbe06d>\u001b[0m in \u001b[0;36m<module>\u001b[0;34m()\u001b[0m\n\u001b[1;32m      3\u001b[0m \u001b[0;34m\u001b[0m\u001b[0m\n\u001b[1;32m      4\u001b[0m \u001b[0mynext\u001b[0m \u001b[0;34m=\u001b[0m \u001b[0mtrapezoidal_step_sec\u001b[0m\u001b[0;34m(\u001b[0m\u001b[0mG\u001b[0m\u001b[0;34m,\u001b[0m \u001b[0;36m0\u001b[0m\u001b[0;34m,\u001b[0m \u001b[0;36m1\u001b[0m\u001b[0;34m,\u001b[0m \u001b[0;36m0.1\u001b[0m\u001b[0;34m)\u001b[0m\u001b[0;34m\u001b[0m\u001b[0;34m\u001b[0m\u001b[0m\n\u001b[0;32m----> 5\u001b[0;31m \u001b[0;32massert\u001b[0m \u001b[0mabs\u001b[0m\u001b[0;34m(\u001b[0m\u001b[0mynext\u001b[0m \u001b[0;34m-\u001b[0m \u001b[0;36m0.9488541465905801\u001b[0m\u001b[0;34m)\u001b[0m \u001b[0;34m<\u001b[0m \u001b[0;36m1e-14\u001b[0m\u001b[0;34m\u001b[0m\u001b[0;34m\u001b[0m\u001b[0m\n\u001b[0m",
            "\u001b[0;31mAssertionError\u001b[0m: "
          ]
        }
      ]
    },
    {
      "cell_type": "code",
      "metadata": {
        "deletable": false,
        "editable": false,
        "nbgrader": {
          "cell_type": "code",
          "checksum": "31ef0a9ae07be063297474e78db2498a",
          "grade": true,
          "grade_id": "cell-4c6e6b6cbd203ead",
          "locked": true,
          "points": 1,
          "schema_version": 3,
          "solution": false
        },
        "id": "_EOPFd4caOTk",
        "outputId": "604787a9-666e-450f-a50c-1d7fa4cd1e82",
        "colab": {
          "base_uri": "https://localhost:8080/",
          "height": 343
        }
      },
      "source": [
        "ynext = trapezoidal_step_sec(G, 0, 1, 0.3)\n",
        "assert abs(ynext - 0.8668725901552984) < 1e-14"
      ],
      "execution_count": null,
      "outputs": [
        {
          "output_type": "error",
          "ename": "TypeError",
          "evalue": "ignored",
          "traceback": [
            "\u001b[0;31m---------------------------------------------------------------------------\u001b[0m",
            "\u001b[0;31mTypeError\u001b[0m                                 Traceback (most recent call last)",
            "\u001b[0;32m<ipython-input-78-4b2d185c2b88>\u001b[0m in \u001b[0;36m<module>\u001b[0;34m()\u001b[0m\n\u001b[0;32m----> 1\u001b[0;31m \u001b[0mynext\u001b[0m \u001b[0;34m=\u001b[0m \u001b[0mtrapezoidal_step_sec\u001b[0m\u001b[0;34m(\u001b[0m\u001b[0mG\u001b[0m\u001b[0;34m,\u001b[0m \u001b[0;36m0\u001b[0m\u001b[0;34m,\u001b[0m \u001b[0;36m1\u001b[0m\u001b[0;34m,\u001b[0m \u001b[0;36m0.3\u001b[0m\u001b[0;34m)\u001b[0m\u001b[0;34m\u001b[0m\u001b[0;34m\u001b[0m\u001b[0m\n\u001b[0m\u001b[1;32m      2\u001b[0m \u001b[0;32massert\u001b[0m \u001b[0mabs\u001b[0m\u001b[0;34m(\u001b[0m\u001b[0mynext\u001b[0m \u001b[0;34m-\u001b[0m \u001b[0;36m0.8668725901552984\u001b[0m\u001b[0;34m)\u001b[0m \u001b[0;34m<\u001b[0m \u001b[0;36m1e-14\u001b[0m\u001b[0;34m\u001b[0m\u001b[0;34m\u001b[0m\u001b[0m\n",
            "\u001b[0;32m<ipython-input-76-a20e263aba85>\u001b[0m in \u001b[0;36mtrapezoidal_step_sec\u001b[0;34m(F, tcurr, ycurr, h)\u001b[0m\n\u001b[1;32m      3\u001b[0m     retornando uma aproximação de  y  em  tcurr+h.\"\"\"\n\u001b[1;32m      4\u001b[0m     \u001b[0mtnext\u001b[0m \u001b[0;34m=\u001b[0m \u001b[0mtcurr\u001b[0m\u001b[0;34m+\u001b[0m\u001b[0mh\u001b[0m\u001b[0;34m\u001b[0m\u001b[0;34m\u001b[0m\u001b[0m\n\u001b[0;32m----> 5\u001b[0;31m     \u001b[0mynext\u001b[0m \u001b[0;34m=\u001b[0m \u001b[0msecante\u001b[0m\u001b[0;34m(\u001b[0m\u001b[0mF\u001b[0m\u001b[0;34m,\u001b[0m \u001b[0mtcurr\u001b[0m\u001b[0;34m,\u001b[0m \u001b[0mycurr\u001b[0m\u001b[0;34m,\u001b[0m \u001b[0mh\u001b[0m\u001b[0;34m)\u001b[0m\u001b[0;34m\u001b[0m\u001b[0;34m\u001b[0m\u001b[0m\n\u001b[0m\u001b[1;32m      6\u001b[0m     \u001b[0;32mreturn\u001b[0m \u001b[0mtnext\u001b[0m\u001b[0;34m,\u001b[0m \u001b[0mynext\u001b[0m\u001b[0;34m\u001b[0m\u001b[0;34m\u001b[0m\u001b[0m\n",
            "\u001b[0;32m<ipython-input-75-651ed99e57f2>\u001b[0m in \u001b[0;36msecante\u001b[0;34m(f, a, b, xtol, maxiter)\u001b[0m\n\u001b[1;32m     22\u001b[0m         \u001b[0;32melse\u001b[0m\u001b[0;34m:\u001b[0m \u001b[0;32mreturn\u001b[0m \u001b[0maux\u001b[0m\u001b[0;34m(\u001b[0m\u001b[0mf\u001b[0m\u001b[0;34m,\u001b[0m \u001b[0mb\u001b[0m\u001b[0;34m,\u001b[0m \u001b[0mz\u001b[0m\u001b[0;34m,\u001b[0m \u001b[0mxtol\u001b[0m\u001b[0;34m,\u001b[0m \u001b[0mnum_iter\u001b[0m\u001b[0;34m,\u001b[0m \u001b[0ml\u001b[0m\u001b[0;34m,\u001b[0m \u001b[0mr\u001b[0m\u001b[0;34m)\u001b[0m\u001b[0;34m\u001b[0m\u001b[0;34m\u001b[0m\u001b[0m\n\u001b[1;32m     23\u001b[0m \u001b[0;34m\u001b[0m\u001b[0m\n\u001b[0;32m---> 24\u001b[0;31m     \u001b[0mz\u001b[0m\u001b[0;34m,\u001b[0m \u001b[0ml\u001b[0m\u001b[0;34m,\u001b[0m \u001b[0mr\u001b[0m \u001b[0;34m=\u001b[0m \u001b[0maux\u001b[0m\u001b[0;34m(\u001b[0m\u001b[0mf\u001b[0m\u001b[0;34m,\u001b[0m\u001b[0ma\u001b[0m\u001b[0;34m,\u001b[0m\u001b[0mb\u001b[0m\u001b[0;34m,\u001b[0m \u001b[0mxtol\u001b[0m\u001b[0;34m,\u001b[0m \u001b[0;36m0\u001b[0m\u001b[0;34m,\u001b[0m \u001b[0;34m[\u001b[0m\u001b[0;34m]\u001b[0m\u001b[0;34m,\u001b[0m \u001b[0;34m[\u001b[0m\u001b[0;34m]\u001b[0m\u001b[0;34m)\u001b[0m\u001b[0;34m\u001b[0m\u001b[0;34m\u001b[0m\u001b[0m\n\u001b[0m\u001b[1;32m     25\u001b[0m     \u001b[0;32mreturn\u001b[0m \u001b[0mz\u001b[0m\u001b[0;34m,\u001b[0m \u001b[0mnp\u001b[0m\u001b[0;34m.\u001b[0m\u001b[0marray\u001b[0m\u001b[0;34m(\u001b[0m\u001b[0ml\u001b[0m\u001b[0;34m)\u001b[0m\u001b[0;34m,\u001b[0m \u001b[0mnp\u001b[0m\u001b[0;34m.\u001b[0m\u001b[0marray\u001b[0m\u001b[0;34m(\u001b[0m\u001b[0mr\u001b[0m\u001b[0;34m)\u001b[0m\u001b[0;34m\u001b[0m\u001b[0;34m\u001b[0m\u001b[0m\n",
            "\u001b[0;32m<ipython-input-75-651ed99e57f2>\u001b[0m in \u001b[0;36maux\u001b[0;34m(f, a, b, xtol, num_iter, l, r)\u001b[0m\n\u001b[1;32m     13\u001b[0m     \u001b[0;31m# Estrutura recursiva\u001b[0m\u001b[0;34m\u001b[0m\u001b[0;34m\u001b[0m\u001b[0;34m\u001b[0m\u001b[0m\n\u001b[1;32m     14\u001b[0m     \u001b[0;32mdef\u001b[0m \u001b[0maux\u001b[0m\u001b[0;34m(\u001b[0m\u001b[0mf\u001b[0m\u001b[0;34m,\u001b[0m \u001b[0ma\u001b[0m\u001b[0;34m,\u001b[0m \u001b[0mb\u001b[0m\u001b[0;34m,\u001b[0m \u001b[0mxtol\u001b[0m\u001b[0;34m,\u001b[0m \u001b[0mnum_iter\u001b[0m\u001b[0;34m,\u001b[0m \u001b[0ml\u001b[0m\u001b[0;34m,\u001b[0m \u001b[0mr\u001b[0m\u001b[0;34m)\u001b[0m\u001b[0;34m:\u001b[0m\u001b[0;34m\u001b[0m\u001b[0;34m\u001b[0m\u001b[0m\n\u001b[0;32m---> 15\u001b[0;31m         \u001b[0mz\u001b[0m \u001b[0;34m=\u001b[0m \u001b[0mpasso_secante\u001b[0m\u001b[0;34m(\u001b[0m\u001b[0mf\u001b[0m\u001b[0;34m,\u001b[0m \u001b[0ma\u001b[0m\u001b[0;34m,\u001b[0m \u001b[0mb\u001b[0m\u001b[0;34m)\u001b[0m \u001b[0;31m# Fazemos o passo\u001b[0m\u001b[0;34m\u001b[0m\u001b[0;34m\u001b[0m\u001b[0m\n\u001b[0m\u001b[1;32m     16\u001b[0m         \u001b[0mnum_iter\u001b[0m \u001b[0;34m+=\u001b[0m \u001b[0;36m1\u001b[0m \u001b[0;31m# Atualizamos o número de iterações\u001b[0m\u001b[0;34m\u001b[0m\u001b[0;34m\u001b[0m\u001b[0m\n\u001b[1;32m     17\u001b[0m \u001b[0;34m\u001b[0m\u001b[0m\n",
            "\u001b[0;32m<ipython-input-75-651ed99e57f2>\u001b[0m in \u001b[0;36mpasso_secante\u001b[0;34m(f, a, b)\u001b[0m\n\u001b[1;32m      8\u001b[0m     \u001b[0;32mdef\u001b[0m \u001b[0mpasso_secante\u001b[0m\u001b[0;34m(\u001b[0m\u001b[0mf\u001b[0m\u001b[0;34m,\u001b[0m \u001b[0ma\u001b[0m\u001b[0;34m,\u001b[0m \u001b[0mb\u001b[0m\u001b[0;34m)\u001b[0m\u001b[0;34m:\u001b[0m\u001b[0;34m\u001b[0m\u001b[0;34m\u001b[0m\u001b[0m\n\u001b[1;32m      9\u001b[0m         \u001b[0;34m\"\"\"Dada a função  f, e o intervalo [a, b], aplica um passo do método da secante.\"\"\"\u001b[0m\u001b[0;34m\u001b[0m\u001b[0;34m\u001b[0m\u001b[0m\n\u001b[0;32m---> 10\u001b[0;31m         \u001b[0mfa\u001b[0m\u001b[0;34m,\u001b[0m \u001b[0mfb\u001b[0m \u001b[0;34m=\u001b[0m \u001b[0mf\u001b[0m\u001b[0;34m(\u001b[0m\u001b[0ma\u001b[0m\u001b[0;34m)\u001b[0m\u001b[0;34m,\u001b[0m \u001b[0mf\u001b[0m\u001b[0;34m(\u001b[0m\u001b[0mb\u001b[0m\u001b[0;34m)\u001b[0m \u001b[0;31m# Declaração de variaveis auxiliares\u001b[0m\u001b[0;34m\u001b[0m\u001b[0;34m\u001b[0m\u001b[0m\n\u001b[0m\u001b[1;32m     11\u001b[0m         \u001b[0;32mreturn\u001b[0m \u001b[0;34m(\u001b[0m\u001b[0ma\u001b[0m\u001b[0;34m*\u001b[0m\u001b[0mfb\u001b[0m \u001b[0;34m-\u001b[0m \u001b[0mb\u001b[0m\u001b[0;34m*\u001b[0m\u001b[0mfa\u001b[0m\u001b[0;34m)\u001b[0m\u001b[0;34m/\u001b[0m\u001b[0;34m(\u001b[0m\u001b[0mfb\u001b[0m \u001b[0;34m-\u001b[0m \u001b[0mfa\u001b[0m\u001b[0;34m)\u001b[0m\u001b[0;34m\u001b[0m\u001b[0;34m\u001b[0m\u001b[0m\n\u001b[1;32m     12\u001b[0m \u001b[0;34m\u001b[0m\u001b[0m\n",
            "\u001b[0;31mTypeError\u001b[0m: G() missing 1 required positional argument: 'y'"
          ]
        }
      ]
    },
    {
      "cell_type": "markdown",
      "metadata": {
        "deletable": false,
        "editable": false,
        "nbgrader": {
          "cell_type": "markdown",
          "checksum": "825dc6517da59d5ddd568b2fe84e4fb5",
          "grade": false,
          "grade_id": "cell-12571dc427d81af9",
          "locked": true,
          "schema_version": 3,
          "solution": false,
          "task": false
        },
        "id": "9XxxRPUJaOTp"
      },
      "source": [
        "### Trapézio 3: Resolvendo a EDO\n",
        "\n",
        "Agora, incorporamos o passo do trapézio numa função `trapezoidal_ode`, análoga à `euler`,\n",
        "que resolve a EDO $y' = F(t, y(t))$ pelo método do trapézio."
      ]
    },
    {
      "cell_type": "code",
      "metadata": {
        "deletable": false,
        "nbgrader": {
          "cell_type": "code",
          "checksum": "fbdd00f70a3d130aa9bf601ff0295c1b",
          "grade": false,
          "grade_id": "cell-53109c937e04b22b",
          "locked": false,
          "schema_version": 3,
          "solution": true,
          "task": false
        },
        "id": "FdlbswwLaOTq"
      },
      "source": [
        "def trapezoidal_ode(F, t0, tf, y0, nsteps=100):\n",
        "    \"\"\"Calcula uma solução aproximada da equação  y' = F(t,y)  pelo método do trapézio,\n",
        "    dividindo o intervalo  [t0, tf]  em  nsteps  passos,\n",
        "    e usando o método da secante para resolver a equação implícita.\"\"\"\n",
        "    # YOUR CODE HERE\n",
        "    raise NotImplementedError()\n",
        "    return ts, np.array(ys)"
      ],
      "execution_count": null,
      "outputs": []
    },
    {
      "cell_type": "code",
      "metadata": {
        "deletable": false,
        "editable": false,
        "nbgrader": {
          "cell_type": "code",
          "checksum": "37a7318dd06b37a667ae942ef34e53bc",
          "grade": true,
          "grade_id": "cell-2636497dc2fecc38",
          "locked": true,
          "points": 1,
          "schema_version": 3,
          "solution": false
        },
        "id": "e05Jbg9faOTs"
      },
      "source": [
        "def F1(t,y):\n",
        "    return y\n",
        "\n",
        "t_100, y_100 = trapezoidal_ode(F1, 0, 1, 1)\n",
        "assert len(t_100) == 101\n",
        "assert t_100[0] == 0\n",
        "assert t_100[-1] == 1"
      ],
      "execution_count": null,
      "outputs": []
    },
    {
      "cell_type": "code",
      "metadata": {
        "deletable": false,
        "editable": false,
        "nbgrader": {
          "cell_type": "code",
          "checksum": "a0ef97f6f192c0d741f11eb994b457a5",
          "grade": true,
          "grade_id": "cell-bad899092faf0acd",
          "locked": true,
          "points": 1,
          "schema_version": 3,
          "solution": false
        },
        "id": "vFJ9Ijk0aOTw"
      },
      "source": [
        "t_100, y_100 = trapezoidal_ode(F1, 0, 1, 1)\n",
        "assert len(y_100) == 101\n",
        "assert y_100[0] == 1\n",
        "assert( abs(y_100[-1] - 2.7183044812417965) < 5e-15 )"
      ],
      "execution_count": null,
      "outputs": []
    },
    {
      "cell_type": "code",
      "metadata": {
        "deletable": false,
        "editable": false,
        "nbgrader": {
          "cell_type": "code",
          "checksum": "e9226b0d2ad72f01a50650b1e8668509",
          "grade": true,
          "grade_id": "cell-c13ccd1c6e326e4a",
          "locked": true,
          "points": 1,
          "schema_version": 3,
          "solution": false
        },
        "id": "iaJ36B-NaOTz"
      },
      "source": [
        "def F_dificil(t, y):\n",
        "    return t*np.sin(y) - t**2*np.cos(y)\n",
        "\n",
        "_, y_dificil = trapezoidal_ode(F_dificil, 0, 2, 1, nsteps=100)\n",
        "assert( abs(y_dificil[-1] - 3.587544094834753) < 5e-15 )"
      ],
      "execution_count": null,
      "outputs": []
    },
    {
      "cell_type": "code",
      "metadata": {
        "deletable": false,
        "editable": false,
        "nbgrader": {
          "cell_type": "code",
          "checksum": "4d516688567bba204b38c9df87d57726",
          "grade": true,
          "grade_id": "cell-ec92560fa7645ec4",
          "locked": true,
          "points": 2,
          "schema_version": 3,
          "solution": false
        },
        "id": "WGh4ppEJaOT1"
      },
      "source": [
        "t_100, y_100 = trapezoidal_ode(F1, 0, 1, 1)\n",
        "assert np.allclose(y_100, np.exp(t_100))\n",
        "assert 1e-5 < np.max(y_100 - np.exp(t_100)) < 5e-5\n",
        "\n",
        "t_1000, y_1000 = trapezoidal_ode(F1, 0, 1, 1, nsteps=1000)\n",
        "assert np.allclose(y_1000, np.exp(t_1000), rtol=1e-7)\n",
        "assert 1e-7 < np.max(y_1000 - np.exp(t_1000)) < 5e-7"
      ],
      "execution_count": null,
      "outputs": []
    },
    {
      "cell_type": "markdown",
      "metadata": {
        "deletable": false,
        "editable": false,
        "nbgrader": {
          "cell_type": "markdown",
          "checksum": "8658864b86e7e3bce6f010b02b0f3378",
          "grade": false,
          "grade_id": "cell-09d5d2bf9bdb2361",
          "locked": true,
          "schema_version": 3,
          "solution": false,
          "task": false
        },
        "id": "wTeJ45HXaOT4"
      },
      "source": [
        "O que a caixa acima está testando?"
      ]
    },
    {
      "cell_type": "markdown",
      "metadata": {
        "deletable": false,
        "nbgrader": {
          "cell_type": "markdown",
          "checksum": "7a3a8fc879ca3db69e12ba4207280cbd",
          "grade": true,
          "grade_id": "cell-565ac12e85799498",
          "locked": false,
          "points": 2,
          "schema_version": 3,
          "solution": true
        },
        "id": "XdL89n3IaOT5"
      },
      "source": [
        "YOUR ANSWER HERE"
      ]
    },
    {
      "cell_type": "markdown",
      "metadata": {
        "deletable": false,
        "editable": false,
        "nbgrader": {
          "cell_type": "markdown",
          "checksum": "830bbf4dc7c0ae093d4dd52ea377302f",
          "grade": false,
          "grade_id": "cell-5035f1355aeb78e3",
          "locked": true,
          "schema_version": 3,
          "solution": false,
          "task": false
        },
        "id": "ohijakmEaOT6"
      },
      "source": [
        "### O método do ponto médio para integrais\n",
        "\n",
        "Esse é um método de \"duplo cálculo\", e explícito:\n",
        "\n",
        "- Andamos metade do tempo $h$, usando um passo \"de Euler\"\n",
        "- Recalculamos o passo de Euler, mas usamos a derivada \"no meio do caminho\",\n",
        "  que é uma aproximação melhor (porque simétrica).\n",
        "\n",
        "Em fórmulas:\n",
        "- Passo explícito, $m_i = y_i + F(t_i, y_i) \\cdot h/2$\n",
        "- 2º passo explícito: $y_{i+1} = y_i + F(t_i + h/2, m_i) \\cdot h$"
      ]
    },
    {
      "cell_type": "markdown",
      "metadata": {
        "deletable": false,
        "editable": false,
        "nbgrader": {
          "cell_type": "markdown",
          "checksum": "fcaf7e9d336694c45d7f9dc60b241cd0",
          "grade": false,
          "grade_id": "cell-ed2fc4d8a461dd0f",
          "locked": true,
          "schema_version": 3,
          "solution": false,
          "task": false
        },
        "id": "Kpo9cjcFaOT7"
      },
      "source": [
        "### Ponto médio 1:\n",
        "\n",
        "Escreva uma função que dá o novo ponto usando a regra do ponto médio"
      ]
    },
    {
      "cell_type": "code",
      "metadata": {
        "deletable": false,
        "nbgrader": {
          "cell_type": "code",
          "checksum": "0549f89929235e1ec82b04158419654e",
          "grade": false,
          "grade_id": "cell-a5d222acf3fcf39c",
          "locked": false,
          "schema_version": 3,
          "solution": true
        },
        "id": "E7X9bdVeaOT7"
      },
      "source": [
        "def midpoint_step(F, t, y, h=1e-6) -> float:\n",
        "    \"\"\"Calcula um passo do método do ponto médio.\n",
        "    \"\"\"\n",
        "    m = y + F(t,y) * h/2\n",
        "    novo_y = y + F(t + h/2, m) * h\n",
        "    return novo_y"
      ],
      "execution_count": null,
      "outputs": []
    },
    {
      "cell_type": "code",
      "metadata": {
        "deletable": false,
        "editable": false,
        "nbgrader": {
          "cell_type": "code",
          "checksum": "b1c9edf2af91c49a09c1d2afab8fa27c",
          "grade": true,
          "grade_id": "cell-02935fb5b443e376",
          "locked": true,
          "points": 1,
          "schema_version": 3,
          "solution": false
        },
        "id": "OPC6qp2XaOT9"
      },
      "source": [
        "def G(t,y):\n",
        "    return t - np.cos(y)\n",
        "\n",
        "ynext = midpoint_step(G, 0, 1, 0.1)\n",
        "assert abs(ynext - 0.9487165172210511) < 1e-14"
      ],
      "execution_count": null,
      "outputs": []
    },
    {
      "cell_type": "code",
      "metadata": {
        "deletable": false,
        "editable": false,
        "nbgrader": {
          "cell_type": "code",
          "checksum": "70ce3e17d9fadc828c789ff573216f5c",
          "grade": true,
          "grade_id": "cell-4b69d6123f624e03",
          "locked": true,
          "points": 1,
          "schema_version": 3,
          "solution": false
        },
        "id": "cqrgReQ2aOT_"
      },
      "source": [
        "ynext = midpoint_step(G, 0, 1, 0.3)\n",
        "assert abs(ynext - 0.8630045486909678) < 1e-14"
      ],
      "execution_count": null,
      "outputs": []
    },
    {
      "cell_type": "markdown",
      "metadata": {
        "deletable": false,
        "editable": false,
        "nbgrader": {
          "cell_type": "markdown",
          "checksum": "be9e33c8afbe402ede08974e1238bc31",
          "grade": false,
          "grade_id": "cell-391b5acadb306dfb",
          "locked": true,
          "schema_version": 3,
          "solution": false,
          "task": false
        },
        "id": "mSJfV0a0aOUC"
      },
      "source": [
        "### Ponto médio 2: EDO\n",
        "\n",
        "E agora, incorpore este passo num método de resolução de EDOs"
      ]
    },
    {
      "cell_type": "code",
      "metadata": {
        "deletable": false,
        "nbgrader": {
          "cell_type": "code",
          "checksum": "1b18c4df1ef946f3a3efe4c60c078437",
          "grade": false,
          "grade_id": "cell-a6fdf31371abb993",
          "locked": false,
          "schema_version": 3,
          "solution": true
        },
        "id": "dFXY0_adaOUD"
      },
      "source": [
        "def midpoint_ode(F, t0, tf, y0, nsteps=100):\n",
        "    \"\"\"Calcula uma solução aproximada da equação y' = F(t,y) no intervalo  [t0, tf]  usando  nsteps  passos,\n",
        "    usando o passo explícito no ponto médio.\"\"\"\n",
        "    assert nsteps > 0\n",
        "    ts, ys = np.linspace(t0, tf, num=nsteps+1), [y0]\n",
        "\n",
        "    h = (tf - t0) / nsteps\n",
        "    ycurr = y0\n",
        "    for t in ts[1:]:\n",
        "        ynext = midpoint_step(F, t, ycurr, h)\n",
        "        ys.append(ynext)\n",
        "        ycurr = ynext\n",
        "\n",
        "    return ts, np.array(ys)"
      ],
      "execution_count": null,
      "outputs": []
    },
    {
      "cell_type": "code",
      "metadata": {
        "deletable": false,
        "editable": false,
        "nbgrader": {
          "cell_type": "code",
          "checksum": "22c64f1ae078fe1658e63bede911df4e",
          "grade": true,
          "grade_id": "cell-0517a2cc6bff6ed6",
          "locked": true,
          "points": 1,
          "schema_version": 3,
          "solution": false
        },
        "id": "9FzLhCEqaOUF"
      },
      "source": [
        "def F1(t,y):\n",
        "    return y\n",
        "\n",
        "t_100, y_100 = midpoint_ode(F1, 0, 1, 1)\n",
        "assert len(t_100) == 101\n",
        "assert t_100[0] == 0\n",
        "assert t_100[-1] == 1"
      ],
      "execution_count": null,
      "outputs": []
    },
    {
      "cell_type": "code",
      "metadata": {
        "deletable": false,
        "editable": false,
        "nbgrader": {
          "cell_type": "code",
          "checksum": "6e701b865a6a35e0e86a3dd9a655b763",
          "grade": true,
          "grade_id": "cell-fa1fbe523679c33f",
          "locked": true,
          "points": 1,
          "schema_version": 3,
          "solution": false
        },
        "id": "OAZ9bq57aOUJ"
      },
      "source": [
        "t_100, y_100 = midpoint_ode(F1, 0, 1, 1)\n",
        "assert len(y_100) == 101\n",
        "assert y_100[0] == 1\n",
        "assert( abs(y_100[-1] - 2.718236862559957) < 5e-15 )"
      ],
      "execution_count": null,
      "outputs": []
    },
    {
      "cell_type": "code",
      "metadata": {
        "deletable": false,
        "editable": false,
        "nbgrader": {
          "cell_type": "code",
          "checksum": "878a5b04dfc3ea540e51745122c9de42",
          "grade": true,
          "grade_id": "cell-698ec04dabd58518",
          "locked": true,
          "points": 1,
          "schema_version": 3,
          "solution": false
        },
        "id": "ont0cCvzaOUM",
        "outputId": "5b621ab2-ec88-4907-adef-26d193df41ee",
        "colab": {
          "base_uri": "https://localhost:8080/",
          "height": 246
        }
      },
      "source": [
        "def F_dificil(t, y):\n",
        "    return t*np.sin(y) - t**2*np.cos(y)\n",
        "\n",
        "_, y_dificil = midpoint_ode(F_dificil, 0, 2, 1, nsteps=100)\n",
        "print(f'{y_dificil[-1]} \\n3.5874427140529868')\n",
        "assert( abs(y_dificil[-1] - 3.5874427140529868) < 5e-15 )"
      ],
      "execution_count": null,
      "outputs": [
        {
          "output_type": "stream",
          "text": [
            "3.6406592979056445 \n",
            "3.5874427140529868\n"
          ],
          "name": "stdout"
        },
        {
          "output_type": "error",
          "ename": "AssertionError",
          "evalue": "ignored",
          "traceback": [
            "\u001b[0;31m---------------------------------------------------------------------------\u001b[0m",
            "\u001b[0;31mAssertionError\u001b[0m                            Traceback (most recent call last)",
            "\u001b[0;32m<ipython-input-71-bbd0c3b4ac2a>\u001b[0m in \u001b[0;36m<module>\u001b[0;34m()\u001b[0m\n\u001b[1;32m      4\u001b[0m \u001b[0m_\u001b[0m\u001b[0;34m,\u001b[0m \u001b[0my_dificil\u001b[0m \u001b[0;34m=\u001b[0m \u001b[0mmidpoint_ode\u001b[0m\u001b[0;34m(\u001b[0m\u001b[0mF_dificil\u001b[0m\u001b[0;34m,\u001b[0m \u001b[0;36m0\u001b[0m\u001b[0;34m,\u001b[0m \u001b[0;36m2\u001b[0m\u001b[0;34m,\u001b[0m \u001b[0;36m1\u001b[0m\u001b[0;34m,\u001b[0m \u001b[0mnsteps\u001b[0m\u001b[0;34m=\u001b[0m\u001b[0;36m100\u001b[0m\u001b[0;34m)\u001b[0m\u001b[0;34m\u001b[0m\u001b[0;34m\u001b[0m\u001b[0m\n\u001b[1;32m      5\u001b[0m \u001b[0mprint\u001b[0m\u001b[0;34m(\u001b[0m\u001b[0;34mf'{y_dificil[-1]} \\n3.5874427140529868'\u001b[0m\u001b[0;34m)\u001b[0m\u001b[0;34m\u001b[0m\u001b[0;34m\u001b[0m\u001b[0m\n\u001b[0;32m----> 6\u001b[0;31m \u001b[0;32massert\u001b[0m\u001b[0;34m(\u001b[0m \u001b[0mabs\u001b[0m\u001b[0;34m(\u001b[0m\u001b[0my_dificil\u001b[0m\u001b[0;34m[\u001b[0m\u001b[0;34m-\u001b[0m\u001b[0;36m1\u001b[0m\u001b[0;34m]\u001b[0m \u001b[0;34m-\u001b[0m \u001b[0;36m3.5874427140529868\u001b[0m\u001b[0;34m)\u001b[0m \u001b[0;34m<\u001b[0m \u001b[0;36m5e-15\u001b[0m \u001b[0;34m)\u001b[0m\u001b[0;34m\u001b[0m\u001b[0;34m\u001b[0m\u001b[0m\n\u001b[0m",
            "\u001b[0;31mAssertionError\u001b[0m: "
          ]
        }
      ]
    },
    {
      "cell_type": "code",
      "metadata": {
        "deletable": false,
        "editable": false,
        "nbgrader": {
          "cell_type": "code",
          "checksum": "b488f4162934fa8c425db677672b777c",
          "grade": true,
          "grade_id": "cell-aa8742504641ae45",
          "locked": true,
          "points": 1,
          "schema_version": 3,
          "solution": false
        },
        "id": "akjUslNgaOUO"
      },
      "source": [
        "t_100, y_100 = midpoint_ode(F1, 0, 1, 1)\n",
        "assert np.allclose(y_100, np.exp(t_100), rtol=2e-5)\n",
        "assert 2e-5 < np.max(abs(y_100 - np.exp(t_100))) < 10e-5\n",
        "\n",
        "t_1000, y_1000 = midpoint_ode(F1, 0, 1, 1, nsteps=1000)\n",
        "assert np.allclose(y_1000, np.exp(t_1000), rtol=2e-7)\n",
        "assert 2e-7 < np.max(abs(y_1000 - np.exp(t_1000))) < 10e-7"
      ],
      "execution_count": null,
      "outputs": []
    },
    {
      "cell_type": "markdown",
      "metadata": {
        "deletable": false,
        "editable": false,
        "nbgrader": {
          "cell_type": "markdown",
          "checksum": "55b94504d9b2705d50f9cc4f6d6a35cf",
          "grade": false,
          "grade_id": "cell-3d95911937cdea2f",
          "locked": true,
          "schema_version": 3,
          "solution": false,
          "task": false
        },
        "id": "hh_WenFkaOUR"
      },
      "source": [
        "### Gráficos\n",
        "\n",
        "### Gráficos 1: Solução de EDOs\n",
        "\n",
        "Resolva a EDO\n",
        "\n",
        "$$y' = t - \\cos(y)$$\n",
        "\n",
        "com condição inicial $y(0) = 1$ no intervalo $[0,5]$, usando 30 pontos,\n",
        "pelos 3 métodos (Euler, Trapézio, ponto médio).\n",
        "Faça o gráfico das três soluções.\n",
        "Não esqueça do título e da legenda!"
      ]
    },
    {
      "cell_type": "code",
      "metadata": {
        "deletable": false,
        "nbgrader": {
          "cell_type": "code",
          "checksum": "1ae55f10f46a4c3f8d40a2a0ae247e92",
          "grade": false,
          "grade_id": "cell-33a3a84d777bfa52",
          "locked": false,
          "schema_version": 3,
          "solution": true
        },
        "id": "CKEZOhOBaOUS",
        "outputId": "bff1ddba-1120-4df5-9fd7-f1e85ad27c9e",
        "colab": {
          "base_uri": "https://localhost:8080/",
          "height": 246
        }
      },
      "source": [
        "# Definimos a EDO\n",
        "# ---------------\n",
        "def F(t, y):\n",
        "    return t - np.cos(y)\n",
        "\n",
        "# Infos dadas\n",
        "# -----------\n",
        "y0 = 1\n",
        "t0, tf = 0, 5\n",
        "npts = 30\n",
        "\n",
        "# Ao plot\n",
        "# ----------------\n",
        "methods = [euler, trapezoidal_ode, midpoint_ode]\n",
        "for m in methods:\n",
        "    ts, ys = m(F, t0, tf, y0, nsteps)\n",
        "    plt.plot(ts, ys, label=m.__name__)\n",
        "\n",
        "plt.grid()\n",
        "plt.legend(title=\"Solução de $y'=t-\\cos(y)$ por diferentes métodos numéricos.\")\n",
        "ax = plt.gca()\n",
        "ax.set_xlabel('ts')\n",
        "ax.set_ylabel('ys')\n",
        "plt.show()"
      ],
      "execution_count": null,
      "outputs": [
        {
          "output_type": "error",
          "ename": "NameError",
          "evalue": "ignored",
          "traceback": [
            "\u001b[0;31m---------------------------------------------------------------------------\u001b[0m",
            "\u001b[0;31mNameError\u001b[0m                                 Traceback (most recent call last)",
            "\u001b[0;32m<ipython-input-74-efecd3f82115>\u001b[0m in \u001b[0;36m<module>\u001b[0;34m()\u001b[0m\n\u001b[1;32m     12\u001b[0m \u001b[0;31m# Ao plot\u001b[0m\u001b[0;34m\u001b[0m\u001b[0;34m\u001b[0m\u001b[0;34m\u001b[0m\u001b[0m\n\u001b[1;32m     13\u001b[0m \u001b[0;31m# ----------------\u001b[0m\u001b[0;34m\u001b[0m\u001b[0;34m\u001b[0m\u001b[0;34m\u001b[0m\u001b[0m\n\u001b[0;32m---> 14\u001b[0;31m \u001b[0mmethods\u001b[0m \u001b[0;34m=\u001b[0m \u001b[0;34m[\u001b[0m\u001b[0meuler\u001b[0m\u001b[0;34m,\u001b[0m \u001b[0mtrapezoidal_ode\u001b[0m\u001b[0;34m,\u001b[0m \u001b[0mmidpoint_ode\u001b[0m\u001b[0;34m]\u001b[0m\u001b[0;34m\u001b[0m\u001b[0;34m\u001b[0m\u001b[0m\n\u001b[0m\u001b[1;32m     15\u001b[0m \u001b[0;32mfor\u001b[0m \u001b[0mm\u001b[0m \u001b[0;32min\u001b[0m \u001b[0mmethods\u001b[0m\u001b[0;34m:\u001b[0m\u001b[0;34m\u001b[0m\u001b[0;34m\u001b[0m\u001b[0m\n\u001b[1;32m     16\u001b[0m     \u001b[0mts\u001b[0m\u001b[0;34m,\u001b[0m \u001b[0mys\u001b[0m \u001b[0;34m=\u001b[0m \u001b[0mm\u001b[0m\u001b[0;34m(\u001b[0m\u001b[0mF\u001b[0m\u001b[0;34m,\u001b[0m \u001b[0mt0\u001b[0m\u001b[0;34m,\u001b[0m \u001b[0mtf\u001b[0m\u001b[0;34m,\u001b[0m \u001b[0my0\u001b[0m\u001b[0;34m,\u001b[0m \u001b[0mnsteps\u001b[0m\u001b[0;34m)\u001b[0m\u001b[0;34m\u001b[0m\u001b[0;34m\u001b[0m\u001b[0m\n",
            "\u001b[0;31mNameError\u001b[0m: name 'trapezoidal_ode' is not defined"
          ]
        }
      ]
    },
    {
      "cell_type": "code",
      "metadata": {
        "deletable": false,
        "editable": false,
        "nbgrader": {
          "cell_type": "code",
          "checksum": "e2741c39c125c65bc9778706180c482c",
          "grade": true,
          "grade_id": "cell-ce8a6c701ef30448",
          "locked": true,
          "points": 2,
          "schema_version": 3,
          "solution": false
        },
        "id": "68DmmS2FaOUV"
      },
      "source": [
        "assert ax.title.get_text() != \"\"\n",
        "assert len(ax.lines) == 3\n",
        "assert len(ax.legend().texts) == 3"
      ],
      "execution_count": null,
      "outputs": []
    },
    {
      "cell_type": "code",
      "metadata": {
        "deletable": false,
        "editable": false,
        "nbgrader": {
          "cell_type": "code",
          "checksum": "dbc69d4820e4980b18d8528e22a609ea",
          "grade": false,
          "grade_id": "cell-658a27a9bd206613",
          "locked": true,
          "schema_version": 3,
          "solution": false
        },
        "id": "OFlKLNZwaOUY"
      },
      "source": [
        "ax = None"
      ],
      "execution_count": null,
      "outputs": []
    },
    {
      "cell_type": "markdown",
      "metadata": {
        "deletable": false,
        "editable": false,
        "nbgrader": {
          "cell_type": "markdown",
          "checksum": "49ee1573c1c07ae7bcf7fe9d75d4d984",
          "grade": false,
          "grade_id": "cell-8d47fa9448102f8f",
          "locked": true,
          "schema_version": 3,
          "solution": false
        },
        "id": "wBTQQSYfaOUc"
      },
      "source": [
        "Esta EDO não tem \"solução analítica simples\".\n",
        "Como você faria para saber qual das curvas está \"mais correta\"?\n",
        "Explique sua ideia abaixo, e faça contas / gráficos na caixa seguinte"
      ]
    },
    {
      "cell_type": "markdown",
      "metadata": {
        "deletable": false,
        "nbgrader": {
          "cell_type": "markdown",
          "checksum": "7ff68caebbba1fc1f902d123addb6cc6",
          "grade": true,
          "grade_id": "cell-5bab6216c6c3cc36",
          "locked": false,
          "points": 2,
          "schema_version": 3,
          "solution": true
        },
        "id": "rcciV2IeaOUc"
      },
      "source": [
        "YOUR ANSWER HERE"
      ]
    },
    {
      "cell_type": "code",
      "metadata": {
        "deletable": false,
        "nbgrader": {
          "cell_type": "code",
          "checksum": "281493f8e70105a374b3bfa617d15ba5",
          "grade": true,
          "grade_id": "cell-f3aaa5eae6c9a1cc",
          "locked": false,
          "points": 2,
          "schema_version": 3,
          "solution": true
        },
        "id": "mXtiFHwiaOUd"
      },
      "source": [
        "# Contas / gráfico\n",
        "# YOUR CODE HERE\n",
        "raise NotImplementedError()"
      ],
      "execution_count": null,
      "outputs": []
    },
    {
      "cell_type": "markdown",
      "metadata": {
        "deletable": false,
        "editable": false,
        "nbgrader": {
          "cell_type": "markdown",
          "checksum": "ffd6e8d9fac4fc61f5855d46a63ed13c",
          "grade": false,
          "grade_id": "cell-4780c10bc46f9467",
          "locked": true,
          "schema_version": 3,
          "solution": false,
          "task": false
        },
        "id": "Ho31KKRBaOUf"
      },
      "source": [
        "### Gráficos 2: Velocidade de convergência"
      ]
    },
    {
      "cell_type": "code",
      "metadata": {
        "deletable": false,
        "editable": false,
        "nbgrader": {
          "cell_type": "code",
          "checksum": "db0efb40f6c4d5673fa87e8c0b747ccb",
          "grade": false,
          "grade_id": "cell-0f68f9a8c831ab1b",
          "locked": true,
          "schema_version": 3,
          "solution": false
        },
        "id": "zVvq2OqgaOUg",
        "outputId": "d5dcef07-4faf-48f9-cab5-7531e497c70c",
        "colab": {
          "base_uri": "https://localhost:8080/",
          "height": 172
        }
      },
      "source": [
        "methods_3 = [euler, trapezoidal_ode, midpoint_ode]"
      ],
      "execution_count": null,
      "outputs": [
        {
          "output_type": "error",
          "ename": "NameError",
          "evalue": "ignored",
          "traceback": [
            "\u001b[0;31m---------------------------------------------------------------------------\u001b[0m",
            "\u001b[0;31mNameError\u001b[0m                                 Traceback (most recent call last)",
            "\u001b[0;32m<ipython-input-72-5a7d6094d8f4>\u001b[0m in \u001b[0;36m<module>\u001b[0;34m()\u001b[0m\n\u001b[0;32m----> 1\u001b[0;31m \u001b[0mmethods_3\u001b[0m \u001b[0;34m=\u001b[0m \u001b[0;34m[\u001b[0m\u001b[0meuler\u001b[0m\u001b[0;34m,\u001b[0m \u001b[0mtrapezoidal_ode\u001b[0m\u001b[0;34m,\u001b[0m \u001b[0mmidpoint_ode\u001b[0m\u001b[0;34m]\u001b[0m\u001b[0;34m\u001b[0m\u001b[0;34m\u001b[0m\u001b[0m\n\u001b[0m",
            "\u001b[0;31mNameError\u001b[0m: name 'trapezoidal_ode' is not defined"
          ]
        }
      ]
    },
    {
      "cell_type": "markdown",
      "metadata": {
        "deletable": false,
        "editable": false,
        "nbgrader": {
          "cell_type": "markdown",
          "checksum": "24f9de9583faa08816094c831e920fd1",
          "grade": false,
          "grade_id": "cell-1abb8540789eee82",
          "locked": true,
          "schema_version": 3,
          "solution": false,
          "task": false
        },
        "id": "NsbyZHONaOUj"
      },
      "source": [
        "Faça uma função que desenha o gráfico dos erros de solução de uma EDO, dados\n",
        "- a função $F$ da EDO\n",
        "- o intervalo $[a,b]$\n",
        "- a condição inicial $y_0$\n",
        "- a solução analítica `ysol`\n",
        "- o número de pontos $n$\n"
      ]
    },
    {
      "cell_type": "code",
      "metadata": {
        "deletable": false,
        "nbgrader": {
          "cell_type": "code",
          "checksum": "c6e815f2ad75b41a60f2285ba964f6e2",
          "grade": false,
          "grade_id": "cell-f1f6501fa1b5f6ce",
          "locked": false,
          "schema_version": 3,
          "solution": true,
          "task": false
        },
        "id": "qfsoqGDkaOUj",
        "outputId": "4c71acb4-72c3-4f5e-b557-647b1c5ba4d9",
        "colab": {
          "base_uri": "https://localhost:8080/",
          "height": 246
        }
      },
      "source": [
        "def graph_err(F, a,b, y0, ysol, n, methods=methods_3):\n",
        "    \"\"\"Desenha os gráficos dos erros de solução de uma EDO\"\"\"\n",
        "    for m in methods:\n",
        "        ts, ys = m(F, t0, tf, y0, n)\n",
        "        err = erro(ysol, ys, ts)\n",
        "        plt.plot(ts, err, label=m.__name__)\n",
        "    plt.gca().set_xlabel(f'ts')\n",
        "    plt.gca().set_ylabel('Erro absoluto')\n",
        "    plt.legend(title=\"Método\")\n",
        "    plt.grid()"
      ],
      "execution_count": null,
      "outputs": [
        {
          "output_type": "error",
          "ename": "NameError",
          "evalue": "ignored",
          "traceback": [
            "\u001b[0;31m---------------------------------------------------------------------------\u001b[0m",
            "\u001b[0;31mNameError\u001b[0m                                 Traceback (most recent call last)",
            "\u001b[0;32m<ipython-input-73-0c8384a2f6f9>\u001b[0m in \u001b[0;36m<module>\u001b[0;34m()\u001b[0m\n\u001b[0;32m----> 1\u001b[0;31m \u001b[0;32mdef\u001b[0m \u001b[0mgraph_err\u001b[0m\u001b[0;34m(\u001b[0m\u001b[0mF\u001b[0m\u001b[0;34m,\u001b[0m \u001b[0ma\u001b[0m\u001b[0;34m,\u001b[0m\u001b[0mb\u001b[0m\u001b[0;34m,\u001b[0m \u001b[0my0\u001b[0m\u001b[0;34m,\u001b[0m \u001b[0mysol\u001b[0m\u001b[0;34m,\u001b[0m \u001b[0mn\u001b[0m\u001b[0;34m,\u001b[0m \u001b[0mmethods\u001b[0m\u001b[0;34m=\u001b[0m\u001b[0mmethods_3\u001b[0m\u001b[0;34m)\u001b[0m\u001b[0;34m:\u001b[0m\u001b[0;34m\u001b[0m\u001b[0;34m\u001b[0m\u001b[0m\n\u001b[0m\u001b[1;32m      2\u001b[0m     \u001b[0;34m\"\"\"Desenha os gráficos dos erros de solução de uma EDO\"\"\"\u001b[0m\u001b[0;34m\u001b[0m\u001b[0;34m\u001b[0m\u001b[0m\n\u001b[1;32m      3\u001b[0m     \u001b[0;32mfor\u001b[0m \u001b[0mm\u001b[0m \u001b[0;32min\u001b[0m \u001b[0mmethods\u001b[0m\u001b[0;34m:\u001b[0m\u001b[0;34m\u001b[0m\u001b[0;34m\u001b[0m\u001b[0m\n\u001b[1;32m      4\u001b[0m         \u001b[0mts\u001b[0m\u001b[0;34m,\u001b[0m \u001b[0mys\u001b[0m \u001b[0;34m=\u001b[0m \u001b[0mm\u001b[0m\u001b[0;34m(\u001b[0m\u001b[0mF\u001b[0m\u001b[0;34m,\u001b[0m \u001b[0mt0\u001b[0m\u001b[0;34m,\u001b[0m \u001b[0mtf\u001b[0m\u001b[0;34m,\u001b[0m \u001b[0my0\u001b[0m\u001b[0;34m,\u001b[0m \u001b[0mn\u001b[0m\u001b[0;34m)\u001b[0m\u001b[0;34m\u001b[0m\u001b[0;34m\u001b[0m\u001b[0m\n\u001b[1;32m      5\u001b[0m         \u001b[0merr\u001b[0m \u001b[0;34m=\u001b[0m \u001b[0merro\u001b[0m\u001b[0;34m(\u001b[0m\u001b[0mysol\u001b[0m\u001b[0;34m,\u001b[0m \u001b[0mys\u001b[0m\u001b[0;34m,\u001b[0m \u001b[0mts\u001b[0m\u001b[0;34m)\u001b[0m\u001b[0;34m\u001b[0m\u001b[0;34m\u001b[0m\u001b[0m\n",
            "\u001b[0;31mNameError\u001b[0m: name 'methods_3' is not defined"
          ]
        }
      ]
    },
    {
      "cell_type": "markdown",
      "metadata": {
        "deletable": false,
        "editable": false,
        "nbgrader": {
          "cell_type": "markdown",
          "checksum": "81ea113fa0adad50a9b45e552f7c3f02",
          "grade": false,
          "grade_id": "cell-ffe70eecba84bd11",
          "locked": true,
          "schema_version": 3,
          "solution": false,
          "task": false
        },
        "id": "rWux394NaOUn"
      },
      "source": [
        "Uma EDO conhecida, para comparar o erro: $$y' = -y.$$"
      ]
    },
    {
      "cell_type": "code",
      "metadata": {
        "deletable": false,
        "editable": false,
        "nbgrader": {
          "cell_type": "code",
          "checksum": "d3a19a2534221545ba54caaae651c3a4",
          "grade": false,
          "grade_id": "cell-8fef74752c80b9ce",
          "locked": true,
          "schema_version": 3,
          "solution": false
        },
        "id": "1VfGFUtCaOUn"
      },
      "source": [
        "def G2(t,y): return -y\n",
        "def ysol2(t): return np.exp(-t)\n",
        "\n",
        "graph_err(G2, 0,2, 1, ysol2, 30)\n",
        "plt.yscale('symlog', linthresh=1e-4) # Com \"symlog\", não use valores absolutos\n",
        "plt.grid()\n",
        "ax = plt.gca()"
      ],
      "execution_count": null,
      "outputs": []
    },
    {
      "cell_type": "code",
      "metadata": {
        "deletable": false,
        "editable": false,
        "nbgrader": {
          "cell_type": "code",
          "checksum": "81884df73f64130cd041828532683ef6",
          "grade": true,
          "grade_id": "cell-bd1283a1a93cf938",
          "locked": true,
          "points": 1,
          "schema_version": 3,
          "solution": false
        },
        "id": "8rw8dhFuaOUq"
      },
      "source": [
        "assert ax.title.get_text() != \"\"\n",
        "assert len(ax.lines) == 3\n",
        "assert len(ax.legend().texts) == 3"
      ],
      "execution_count": null,
      "outputs": []
    },
    {
      "cell_type": "code",
      "metadata": {
        "deletable": false,
        "editable": false,
        "nbgrader": {
          "cell_type": "code",
          "checksum": "f92dbac814e34e3627ffded526e4a697",
          "grade": true,
          "grade_id": "cell-833495eb66f83962",
          "locked": true,
          "points": 1,
          "schema_version": 3,
          "solution": false,
          "task": false
        },
        "id": "JCzw-J6naOUr"
      },
      "source": [
        "xdata = ax.lines[0].get_xdata()\n",
        "assert min(xdata) == 0.0\n",
        "assert max(xdata) == 2.0\n",
        "\n",
        "ydata = [l.get_ydata() for l in ax.lines]\n",
        "assert -2e-2 < np.min(ydata) < -1e-2\n",
        "assert  1e-4 < np.max(ydata) <  4e-4"
      ],
      "execution_count": null,
      "outputs": []
    },
    {
      "cell_type": "markdown",
      "metadata": {
        "deletable": false,
        "editable": false,
        "nbgrader": {
          "cell_type": "markdown",
          "checksum": "48561125e8cee1ee4272516c5c8acb11",
          "grade": false,
          "grade_id": "cell-5eea6c3a87cdf3e5",
          "locked": true,
          "schema_version": 3,
          "solution": false,
          "task": false
        },
        "id": "Qh7W9wuPaOUu"
      },
      "source": [
        "### Gráficos 3: Erro em função de $n$\n",
        "\n",
        "Usando a função `erro` definida anteriormente, faça o gráfico do erro, para os 3 métodos,\n",
        "em função de $n$, para a EDO $y' = y$, no intervalo $[0,2]$."
      ]
    },
    {
      "cell_type": "code",
      "metadata": {
        "deletable": false,
        "nbgrader": {
          "cell_type": "code",
          "checksum": "015d023b4d241c891d8333bc5ddfaef6",
          "grade": false,
          "grade_id": "cell-042badbff1e14e15",
          "locked": false,
          "schema_version": 3,
          "solution": true
        },
        "id": "UgJ5eF2oaOUv"
      },
      "source": [
        "%%time\n",
        "ns = np.logspace(1,5,num=21, dtype=int)\n",
        "\n",
        "methods = [euler, trapezoidal_ode, midpoint_ode]\n",
        "for m in methods:\n",
        "    err_array = []\n",
        "    for n in ns:\n",
        "        ts, ys = m(F, t0, tf, y0, ns)\n",
        "        err = erro(ysol2, ys, ts)\n",
        "        err_array.append(err)\n",
        "    plt.plot(ns, err_array, label=m.__name__)\n",
        "\n",
        "plt.grid()\n",
        "plt.legend(title=\"Solução de $y'=y$ por diferentes métodos numéricos.\")\n",
        "ax = plt.gca()\n",
        "ax.set_xlabel('ns')\n",
        "ax.set_ylabel('Erro absoluto')\n",
        "plt.show()"
      ],
      "execution_count": null,
      "outputs": []
    },
    {
      "cell_type": "code",
      "metadata": {
        "deletable": false,
        "editable": false,
        "nbgrader": {
          "cell_type": "code",
          "checksum": "d51630a820fc1a0063c818dc6926e0bb",
          "grade": true,
          "grade_id": "cell-6e8eeb4188889f83",
          "locked": true,
          "points": 2,
          "schema_version": 3,
          "solution": false
        },
        "id": "BCRSJn1MaOUw"
      },
      "source": [
        "assert ax.title.get_text() != \"\"\n",
        "assert len(ax.lines) == 3\n",
        "assert len(ax.legend().texts) == 3"
      ],
      "execution_count": null,
      "outputs": []
    },
    {
      "cell_type": "markdown",
      "metadata": {
        "deletable": false,
        "editable": false,
        "nbgrader": {
          "cell_type": "markdown",
          "checksum": "2b55b5a7e22c2432057393c6b65380e9",
          "grade": false,
          "grade_id": "cell-41a618f77506e4ef",
          "locked": true,
          "schema_version": 3,
          "solution": false,
          "task": false
        },
        "id": "5K6E5CTOaOU9"
      },
      "source": [
        "O que você observa?"
      ]
    },
    {
      "cell_type": "markdown",
      "metadata": {
        "deletable": false,
        "nbgrader": {
          "cell_type": "markdown",
          "checksum": "b6d36c7ab7cf0f90334aa8c7b90f71cb",
          "grade": true,
          "grade_id": "cell-2dc4aff2a203c9c5",
          "locked": false,
          "points": 3,
          "schema_version": 3,
          "solution": true
        },
        "id": "NIX2mn9raOU9"
      },
      "source": [
        "YOUR ANSWER HERE"
      ]
    }
  ]
}